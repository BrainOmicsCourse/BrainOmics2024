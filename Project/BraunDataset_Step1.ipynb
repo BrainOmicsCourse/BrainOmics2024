{
 "cells": [
  {
   "cell_type": "markdown",
   "metadata": {
    "extensions": {
     "jupyter_dashboards": {
      "version": 1,
      "views": {
       "grid_default": {
        "col": 0,
        "height": 4,
        "hidden": false,
        "row": 0,
        "width": 4
       },
       "report_default": {}
      }
     }
    },
    "tags": []
   },
   "source": [
    "# Project: Explore Braun dataset\n"
   ]
  },
  {
   "cell_type": "markdown",
   "metadata": {},
   "source": [
    "__Upstream Steps__\n",
    "\n",
    "* Assemble adata\n",
    "* Filtered to select cortex, cerebellum, thalamus\n",
    "* Sub-sampled to 75000 cells\n",
    "\n",
    "\n",
    "__This notebook__\n",
    "\n",
    "* QC filter on cells\n",
    "* Expression filter on genes\n",
    "* Normalization and log10 transformation by Scanpy functions\n",
    "* Feature selection (HVG) by Scanpy functions\n",
    "* Dimensionality reduction\n",
    "* Batch correction by Harmony\n",
    "\n"
   ]
  },
  {
   "cell_type": "markdown",
   "metadata": {},
   "source": [
    "# Dataset Information\n",
    "\n",
    "## References\n",
    "\n",
    "* [Paper Reference: Comprehensive cell atlas of the first-trimester developing human brain](https://www.science.org/doi/10.1126/science.adf1226)\n",
    "* [Data and code repository: GitHub Repo](https://github.com/linnarsson-lab/developing-human-brain)\n",
    "\n",
    "\n",
    "> Short description: 26 brain specimens spanning 5 to 14 postconceptional weeks (pcw) were dissected into 111 distinct biological samples. Each sample was subjected to single-cell RNA sequencing, resulting in 1,665,937 high-quality single-cell\n",
    "\n",
    "\n",
    "__Subsample of the dataset selecting cortex, cerebellum and thalamus__"
   ]
  },
  {
   "cell_type": "markdown",
   "metadata": {},
   "source": [
    "<div class=\"alert alert-block alert-info\"><b>Cell populations identified by the authors:</b> \n",
    "\n",
    "* __Erythrocyte__\n",
    "* __Fibroblast__\n",
    "* __Glioblast__\n",
    "* __Immune__\n",
    "* __Neural crest__\n",
    "* __Neuroblast__\n",
    "* __Neuron__\n",
    "* __Neuronal IPC__\n",
    "* __Oligo__\n",
    "* __Placodes__\n",
    "* __Radial glia__\n",
    "* __Vascular__"
   ]
  },
  {
   "cell_type": "markdown",
   "metadata": {},
   "source": [
    "-----"
   ]
  },
  {
   "cell_type": "markdown",
   "metadata": {
    "extensions": {
     "jupyter_dashboards": {
      "version": 1,
      "views": {
       "grid_default": {
        "col": 4,
        "height": 4,
        "hidden": false,
        "row": 0,
        "width": 4
       },
       "report_default": {}
      }
     }
    },
    "toc-hr-collapsed": true
   },
   "source": [
    "# 1. Environment"
   ]
  },
  {
   "cell_type": "markdown",
   "metadata": {},
   "source": [
    "## 1.1 Modules"
   ]
  },
  {
   "cell_type": "code",
   "execution_count": null,
   "metadata": {
    "extensions": {
     "jupyter_dashboards": {
      "version": 1,
      "views": {
       "grid_default": {
        "col": 8,
        "height": 4,
        "hidden": false,
        "row": 0,
        "width": 4
       },
       "report_default": {}
      }
     }
    }
   },
   "outputs": [],
   "source": [
    "import os\n",
    "import sys\n",
    "\n",
    "import numpy as np\n",
    "import pandas as pd\n",
    "import igraph as ig\n",
    "import scanpy as sc\n",
    "import scanpy.external as sce\n",
    "from scipy.sparse import csr_matrix, isspmatrix\n",
    "\n",
    "#Plotting\n",
    "import matplotlib.pyplot as plt\n",
    "import matplotlib\n",
    "import seaborn as sns\n",
    "\n",
    "#utils\n",
    "from datetime import datetime"
   ]
  },
  {
   "cell_type": "code",
   "execution_count": 1,
   "metadata": {},
   "outputs": [],
   "source": [
    "# Custom functions\n",
    "import Helper as fn"
   ]
  },
  {
   "cell_type": "markdown",
   "metadata": {
    "extensions": {
     "jupyter_dashboards": {
      "version": 1,
      "views": {
       "grid_default": {
        "col": 0,
        "height": 5,
        "hidden": false,
        "row": 12,
        "width": 12
       },
       "report_default": {}
      }
     }
    }
   },
   "source": [
    "## 1.2 Settings\n"
   ]
  },
  {
   "cell_type": "code",
   "execution_count": null,
   "metadata": {
    "extensions": {
     "jupyter_dashboards": {
      "version": 1,
      "views": {
       "grid_default": {
        "hidden": true
       },
       "report_default": {}
      }
     }
    }
   },
   "outputs": [],
   "source": [
    "sc.settings.verbosity = 3\n",
    "sc.settings.set_figure_params(dpi=80)"
   ]
  },
  {
   "cell_type": "markdown",
   "metadata": {},
   "source": [
    "## 1.3 Input file\n",
    "\n",
    "You can set parameters useful for your analysis in the cells below and then recall them during the analysis"
   ]
  },
  {
   "cell_type": "code",
   "execution_count": null,
   "metadata": {
    "extensions": {
     "jupyter_dashboards": {
      "version": 1,
      "views": {
       "grid_default": {
        "hidden": true
       },
       "report_default": {}
      }
     }
    }
   },
   "outputs": [],
   "source": [
    "path = '../DataDir/InputData/'\n",
    "Id = 'Project_AssembledAdata.h5ad'\n",
    "input_file = path + Id"
   ]
  },
  {
   "cell_type": "markdown",
   "metadata": {},
   "source": [
    "## 1.4 Other parameters\n",
    "\n",
    "You can set parameters useful for your analysis in the cells below and then recall them during the analysis"
   ]
  },
  {
   "cell_type": "raw",
   "metadata": {},
   "source": [
    "#Cell filtering  \n",
    "MIN_GENES = \n",
    "MAX_GENES = \n",
    "\n",
    "MIN_COUNTS = \n",
    "MAX_COUNTS = \n",
    "\n",
    "PCT_MITO = \n",
    "PCT_RIBO = \n",
    "\n",
    "#Gene Filtering\n",
    "PCT_CELLS = "
   ]
  },
  {
   "cell_type": "markdown",
   "metadata": {},
   "source": [
    "----"
   ]
  },
  {
   "cell_type": "markdown",
   "metadata": {
    "extensions": {
     "jupyter_dashboards": {
      "version": 1,
      "views": {
       "grid_default": {
        "col": 0,
        "height": 4,
        "hidden": false,
        "row": 17,
        "width": 4
       },
       "report_default": {}
      }
     }
    },
    "tags": [],
    "toc-hr-collapsed": true
   },
   "source": [
    "# 2. Data Load\n"
   ]
  },
  {
   "cell_type": "markdown",
   "metadata": {
    "extensions": {
     "jupyter_dashboards": {
      "version": 1,
      "views": {
       "grid_default": {
        "col": 0,
        "height": 8,
        "hidden": false,
        "row": 21,
        "width": 12
       },
       "report_default": {}
      }
     }
    }
   },
   "source": [
    "## 2.1 Read adata file"
   ]
  },
  {
   "cell_type": "code",
   "execution_count": null,
   "metadata": {},
   "outputs": [],
   "source": [
    "adata = sc.read_h5ad(input_file)\n",
    "adata.var_names_make_unique()"
   ]
  },
  {
   "cell_type": "markdown",
   "metadata": {},
   "source": [
    "## 2.2 Explore metadata\n",
    "\n",
    "### ⚠️❓ *Which are the main / most interesting metadata associated with barcodes (.obs)? How can you plot/inspect them?* "
   ]
  },
  {
   "cell_type": "markdown",
   "metadata": {},
   "source": [
    "<details>\n",
    "\n",
    "<summary>Hint</summary>\n",
    "\n",
    "> adata.obs.columns # to check information stored in .obs\n",
    "> \n",
    "> adata.obs['myCol'].value_counts().plot.bar() #Specifying the column of interest\n",
    ">\n",
    "> adata.obs['myCol'].value_counts().plot.bar()\n",
    ">\n",
    "> pd.crosstab(adata.obs['myCol1'], adata.obs['myCol2'])\n",
    "\n",
    "</details>"
   ]
  },
  {
   "cell_type": "code",
   "execution_count": null,
   "metadata": {},
   "outputs": [],
   "source": [
    "adata.obs.columns"
   ]
  },
  {
   "cell_type": "markdown",
   "metadata": {
    "extensions": {
     "jupyter_dashboards": {
      "version": 1,
      "views": {
       "grid_default": {
        "col": 0,
        "height": 6,
        "hidden": false,
        "row": 74,
        "width": 12
       },
       "report_default": {}
      }
     }
    }
   },
   "source": [
    "## 2.3 Calculate QCs"
   ]
  },
  {
   "cell_type": "code",
   "execution_count": null,
   "metadata": {},
   "outputs": [],
   "source": [
    "#Find mito and ribo genes\n",
    "mito_genes = adata.var_names.str.startswith('MT-')   \n",
    "ribo_genes = adata.var_names.str.contains('^RPS|^RPL')\n",
    "\n",
    "#qc_vars wants a column of adataata.var containing T/F or 1/0 indicating the genes to be selected for sub-statistics\n",
    "adata.var['mito'] = adata.var_names.str.startswith('MT-')    \n",
    "adata.var['ribo']= adata.var_names.str.contains('^RPS|^RPL')\n",
    "\n",
    "#Compute metrics (inplace=True to append to adata)\n",
    "sc.pp.calculate_qc_metrics(adata, log1p=True, qc_vars=['mito','ribo'], inplace=True, percent_top=None)"
   ]
  },
  {
   "cell_type": "code",
   "execution_count": null,
   "metadata": {},
   "outputs": [],
   "source": [
    "adata"
   ]
  },
  {
   "cell_type": "markdown",
   "metadata": {},
   "source": [
    "----"
   ]
  },
  {
   "cell_type": "markdown",
   "metadata": {
    "extensions": {
     "jupyter_dashboards": {
      "version": 1,
      "views": {
       "grid_default": {
        "col": 0,
        "height": 8,
        "hidden": false,
        "row": 123,
        "width": 12
       },
       "report_default": {}
      }
     }
    },
    "tags": [],
    "toc-hr-collapsed": true
   },
   "source": [
    "# 3. Discard low quality barcodes and lowly expressed genes\n",
    "\n",
    "### 3.1 ⚠️❓ *Which parameters would you evaluate to discard low-quality barcodes?*"
   ]
  },
  {
   "cell_type": "code",
   "execution_count": null,
   "metadata": {},
   "outputs": [],
   "source": [
    "# write your code "
   ]
  },
  {
   "cell_type": "markdown",
   "metadata": {},
   "source": [
    "<details>\n",
    "\n",
    "<summary>Hint</summary>\n",
    "\n",
    "__You can evaluate the following metrics related to quality as preliminary step for filtering:__ \n",
    "\n",
    "* __Mitochondrial gene counts:__ high proportions are indicative of poor-quality cells, related to loss of cytoplasmic RNA from perforated cells: mitochondrial transcripts are protected by mitochondrial membrane and therefore less likely to escape through tears in the cell membrane. \n",
    "* __Ribosomal Protein gene counts:__ high proportion are indicative of a shallow sequencing, because very highly expressed genes occupy most of the reads\n",
    "* __Number of genes:__ related to sequencing depth/quality\n",
    "* __Number of UMI counts for each gene:__ gene-wise sum of UMI counts (in all the cells) \n",
    "\n",
    "\n",
    "</details>"
   ]
  },
  {
   "cell_type": "markdown",
   "metadata": {},
   "source": [
    "### 3.2 ⚠️❓ *How would you describe overall the quality of this dataset?*"
   ]
  },
  {
   "cell_type": "code",
   "execution_count": null,
   "metadata": {},
   "outputs": [],
   "source": [
    "# write your code "
   ]
  },
  {
   "attachments": {},
   "cell_type": "markdown",
   "metadata": {},
   "source": [
    "<details>\n",
    "\n",
    "<summary>Hint</summary>\n",
    "\n",
    "__You can using diagnostic plots to check the distribution of QC, such as violin plots or density plots__ \n",
    "\n",
    "> sc.pl.violin(adata, keys=['total_counts', 'n_genes_by_counts', 'pct_counts_mito', 'pct_counts_ribo'], groupby='Meta_Col',\n",
    "             jitter=False, multi_panel=True, rotation=45) # specifying the column of interest\n",
    "\n",
    "</details>\n",
    "\n"
   ]
  },
  {
   "cell_type": "markdown",
   "metadata": {},
   "source": [
    "### 3.3 ⚠️❓ *Which thresholds would you set for the filtering of low-quality barcodes?*\n",
    "__Once you have set the thresholds, proceed with the barcode filtering steps__"
   ]
  },
  {
   "cell_type": "code",
   "execution_count": null,
   "metadata": {},
   "outputs": [],
   "source": [
    "# write your code "
   ]
  },
  {
   "cell_type": "markdown",
   "metadata": {},
   "source": [
    "<details>\n",
    "\n",
    "<summary>Hint</summary>\n",
    "\n",
    "__Apply sc.pp.filter_cells function for cell filtering and sc.pp.filter_genes for gene filtering__ \n",
    "\n",
    "> sc.pp.filter_cells(adata, min_genes=MIN_GENES) #specifying the chosen threshold\n",
    "\n",
    "\n",
    "</details>"
   ]
  },
  {
   "cell_type": "markdown",
   "metadata": {},
   "source": [
    "### What about feature filtering? \n",
    "\n",
    "__Set the threshold on the basis of your considerations, and proceed with the feature filtering step__"
   ]
  },
  {
   "cell_type": "markdown",
   "metadata": {},
   "source": [
    "### 3.4 ⚠️❓ *How many barcodes (obs) and features (var) are in your anndata at the end of the filtering steps?*"
   ]
  },
  {
   "cell_type": "code",
   "execution_count": null,
   "metadata": {},
   "outputs": [],
   "source": [
    "# write your code "
   ]
  },
  {
   "cell_type": "markdown",
   "metadata": {},
   "source": [
    "----"
   ]
  },
  {
   "cell_type": "markdown",
   "metadata": {},
   "source": [
    "# 4. Normalize and Log Transform \n",
    "\n",
    "* Store raw counts in 'counts' layer\n",
    "* Normalize and log-transform"
   ]
  },
  {
   "cell_type": "markdown",
   "metadata": {},
   "source": [
    "Some useful parameters to keep in mind from the scanpy documentation for [sc.pp.normalize_total](https://scanpy.readthedocs.io/en/stable/generated/scanpy.pp.normalize_total.html)\n",
    ">- `target_sum` : If None, after normalization, each observation (cell) has a total count equal to the **median of total counts for observations (cells) before normalization**.\n",
    ">- `exclude_highly_expressed` : Exclude (very) highly expressed genes for the computation of the normalization factor (size factor) for each cell. **A gene is considered highly expressed, if it has more than max_fraction of the total counts in at least one cell**. The not-excluded genes will sum up to target_sum.\n",
    ">- `max_fraction` : float (**default: 0.05**) If exclude_highly_expressed=True, consider cells as highly expressed that have more counts than max_fraction of the original total counts in at least one cell.\n",
    "\n"
   ]
  },
  {
   "cell_type": "code",
   "execution_count": null,
   "metadata": {},
   "outputs": [],
   "source": [
    "adata.layers['counts'] = adata.X.copy()"
   ]
  },
  {
   "cell_type": "code",
   "execution_count": null,
   "metadata": {},
   "outputs": [],
   "source": [
    "sc.pp.normalize_total(adata, target_sum=1e4, exclude_highly_expressed=True)\n",
    "sc.pp.log1p(adata)"
   ]
  },
  {
   "cell_type": "markdown",
   "metadata": {},
   "source": [
    "----------------------\n",
    "\n",
    "# 5. Feature selection: Highly Variable Genes\n",
    "\n"
   ]
  },
  {
   "cell_type": "code",
   "execution_count": null,
   "metadata": {},
   "outputs": [],
   "source": [
    "# specified values are the default\n",
    "sc.pp.highly_variable_genes(adata, min_mean=0.0125, max_mean=3, min_disp=0.5)\n",
    "print('Number of Higly Variable Genes', len(adata.var_names[adata.var['highly_variable'] == True]))"
   ]
  },
  {
   "cell_type": "markdown",
   "metadata": {},
   "source": [
    "<details>\n",
    "\n",
    "<summary>Hint</summary>\n",
    "\n",
    "If in donwstream exploration you indentify sources of batch effect, you ca take them into consideration already at this level by specifying the variable as below:\n",
    "\n",
    "> sc.pp.highly_variable_genes(adata, min_mean=0.0125, max_mean=3, min_disp=0.5, batch_key=BATCH_KEY) #specifying the identified batch variable\n",
    "\n",
    "</details>"
   ]
  },
  {
   "cell_type": "markdown",
   "metadata": {},
   "source": [
    "--------------------\n",
    "\n",
    "# 6. Dimensionality Reduction\n"
   ]
  },
  {
   "cell_type": "markdown",
   "metadata": {},
   "source": [
    "## 6.1 PCA\n",
    "\n",
    "* PCA applies an orthogonal transformation of the original dataset creating a new set of uncorrelated variables (principal components, PC) that are a linear combination of the original features. \n",
    "* In the context of scRNASeq, PCA is used to select the top PCs that are used for downstream analytical tasks.\n",
    "* The number of PCs to retain for downstream analyses is generally chosen on the basis of the amount of variance explained by each of them. Using more PCs will retain more biological signal at the cost of including more noise."
   ]
  },
  {
   "cell_type": "code",
   "execution_count": null,
   "metadata": {},
   "outputs": [],
   "source": [
    "sc.pp.pca(adata, n_comps=50, use_highly_variable=True, svd_solver='arpack')"
   ]
  },
  {
   "cell_type": "markdown",
   "metadata": {},
   "source": [
    "###  ⚠️❓ *Which metadata are you curious to plot on the PCA?* \n",
    "###  ⚠️❓ *What information are you retrieving?* "
   ]
  },
  {
   "cell_type": "markdown",
   "metadata": {},
   "source": [
    "<details>\n",
    "\n",
    "<summary>Hint</summary>\n",
    "\n",
    "> sc.pl.pca(adata, color=['MetaCols'], ncols=2) #specifying the meta column of interest\n",
    "\n",
    "</details>"
   ]
  },
  {
   "cell_type": "markdown",
   "metadata": {},
   "source": [
    "### ⚠️❓ *How many PC would you select for the calculation of neighbors?*\n",
    "\n",
    "Specify your choice in the N_PCs variable"
   ]
  },
  {
   "cell_type": "markdown",
   "metadata": {},
   "source": [
    "<details>\n",
    "\n",
    "<summary>Hint</summary>\n",
    "\n",
    "Check the plot below:\n",
    "\n",
    "> sc.pl.pca_variance_ratio(adata, log=True) \n",
    "\n",
    "> N_PCs = ChosenValue\n",
    "\n",
    "</details>"
   ]
  },
  {
   "cell_type": "code",
   "execution_count": null,
   "metadata": {},
   "outputs": [],
   "source": [
    "# Complete below\n",
    "N_PCs = "
   ]
  },
  {
   "cell_type": "markdown",
   "metadata": {},
   "source": [
    "## 6.2 Neighbours"
   ]
  },
  {
   "cell_type": "markdown",
   "metadata": {},
   "source": [
    "[sc.pp.neighbors](https://scanpy.readthedocs.io/en/stable/generated/scanpy.pp.neighbors.html) computes a neighborhood graph of observations. The cells are embedded in a graph structure with edges drawn between cells with similar feature expression patterns. A k-nearest neigbour graph will connect each cell with the its k-nearest neigbours.\n",
    "\n",
    "__Key parameters:__ \n",
    "> * `n_pcs`: number of PC used for compute the kNN graph\n",
    "> * `n_neighbors`: number of neighbors. Larger neighbor values will result in more global structure being preserved at the loss of detailed local structure. \n",
    "> * `metrics`: distance metric used in the calculation"
   ]
  },
  {
   "cell_type": "code",
   "execution_count": null,
   "metadata": {},
   "outputs": [],
   "source": [
    "N_NB = int(0.5 * len(adata) ** 0.5)\n",
    "if N_NB > 80:\n",
    "    N_NB = 80\n",
    "print(N_NB) "
   ]
  },
  {
   "cell_type": "code",
   "execution_count": null,
   "metadata": {
    "tags": []
   },
   "outputs": [],
   "source": [
    "sc.pp.neighbors(adata, n_neighbors=N_NB, n_pcs=N_PCs, key_added=\"pca\")"
   ]
  },
  {
   "cell_type": "markdown",
   "metadata": {},
   "source": [
    "### ⚠️❓ *How does the choice of neighbours impact on downstream steps? How changes the UMAP if you select a bigger/smaller number of neighbours?*\n",
    "\n",
    "In an alternative workflow, try to increase / decrease the n_neighbors parameter and observe the impact on the resulting UMAP"
   ]
  },
  {
   "cell_type": "markdown",
   "metadata": {},
   "source": [
    "## 6.3 UMAP\n",
    "\n"
   ]
  },
  {
   "cell_type": "code",
   "execution_count": null,
   "metadata": {},
   "outputs": [],
   "source": [
    "sc.tl.umap(adata, random_state=1, neighbors_key=\"pca\")"
   ]
  },
  {
   "cell_type": "markdown",
   "metadata": {},
   "source": [
    "### ⚠️❓ Which metadata are you curious to plot on the UMAP? \n",
    "### ⚠️❓ What information are you retrieving? \n",
    "### ⚠️❓ Are there indications of batch effects?"
   ]
  },
  {
   "cell_type": "markdown",
   "metadata": {},
   "source": [
    "<details>\n",
    "\n",
    "<summary>Hint</summary>\n",
    "\n",
    "> adata.obsm[\"X_umap_nocorr\"] = adata.obsm[\"X_umap\"].copy() #to store UMAP coordinates in a new slot\n",
    "\n",
    "> del adata.obsm[\"X_umap\"]\n",
    "\n",
    "> sc.pl.embedding(adata, basis=\"X_umap_nocorr\", \n",
    "                color=['n_genes_by_counts',\"total_counts\", 'pct_counts_mito', 'pct_counts_ribo'])\n",
    "\n",
    "> sc.pl.embedding(adata, basis=\"X_umap_nocorr\", \n",
    "                color=['MetaCols'])\n",
    "\n",
    "</details>"
   ]
  },
  {
   "cell_type": "markdown",
   "metadata": {},
   "source": [
    "-------------\n",
    "\n",
    "# 7. Batch correction by Harmony\n",
    "\n",
    "### ⚠️❓ Do you think the dataset is affected by a batch effect?\n",
    "\n",
    "__If you think there is a potential batch effect, set the BATCH_KEY coordinate accordingly and then run the integration by Harmony__"
   ]
  },
  {
   "cell_type": "code",
   "execution_count": null,
   "metadata": {},
   "outputs": [],
   "source": [
    "#Write below\n",
    "BATCH_KEY = ''"
   ]
  },
  {
   "cell_type": "code",
   "execution_count": null,
   "metadata": {},
   "outputs": [],
   "source": [
    "sc.external.pp.harmony_integrate(adata, BATCH_KEY)"
   ]
  },
  {
   "cell_type": "code",
   "execution_count": null,
   "metadata": {},
   "outputs": [],
   "source": [
    "sc.pp.neighbors(adata, n_neighbors=N_NB, n_pcs=N_PCs, use_rep='X_pca_harmony', key_added='harmony')"
   ]
  },
  {
   "cell_type": "markdown",
   "metadata": {},
   "source": [
    "-----------------------\n",
    "\n",
    "# 8. Batch-corrected dimensionality reduction\n",
    "\n",
    "You can now check the results of your strategy, plotting the integrated UMAP"
   ]
  },
  {
   "cell_type": "code",
   "execution_count": null,
   "metadata": {},
   "outputs": [],
   "source": [
    "sc.tl.umap(adata, random_state=1, neighbors_key=\"harmony\")\n",
    "adata.obsm[\"X_umap_harmony\"] = adata.obsm[\"X_umap\"].copy()\n",
    "del adata.obsm[\"X_umap\"]"
   ]
  },
  {
   "cell_type": "code",
   "execution_count": null,
   "metadata": {},
   "outputs": [],
   "source": [
    "sc.pl.embedding(adata,  basis=\"X_umap_harmony\", color=meta_dim, ncols=1)"
   ]
  },
  {
   "cell_type": "markdown",
   "metadata": {},
   "source": [
    "### ⚠️❓Which other dimensionality reduction approach could you apply? "
   ]
  },
  {
   "cell_type": "markdown",
   "metadata": {},
   "source": [
    "-------"
   ]
  },
  {
   "cell_type": "markdown",
   "metadata": {},
   "source": [
    "\n",
    "# 9. OPTIONAL SECTION: Cell type annotation\n",
    "\n",
    "### ⚠️❓How would you proceed to have a first idea of the cell populations that have been profiled in the dataset? \n",
    "\n",
    "<details>\n",
    "\n",
    "<summary>Hint</summary>\n",
    "\n",
    "Once you have get your own idea of annotation, you can compare with the metadata that are available in the obs slot.\n",
    "\n",
    "</details>"
   ]
  },
  {
   "cell_type": "markdown",
   "metadata": {},
   "source": [
    "-----\n",
    "\n",
    "# 10. SAVE ANNDATA\n",
    "\n",
    "Save your anndata so that it will be available for the second part of the project. "
   ]
  },
  {
   "cell_type": "code",
   "execution_count": null,
   "metadata": {},
   "outputs": [],
   "source": [
    "# write your code"
   ]
  }
 ],
 "metadata": {
  "extensions": {
   "jupyter_dashboards": {
    "activeView": "grid_default",
    "version": 1,
    "views": {
     "grid_default": {
      "cellMargin": 10,
      "defaultCellHeight": 20,
      "maxColumns": 12,
      "name": "grid",
      "type": "grid"
     },
     "report_default": {
      "name": "report",
      "type": "report"
     }
    }
   }
  },
  "kernelspec": {
   "display_name": "Python 3 (ipykernel)",
   "language": "python",
   "name": "python3"
  },
  "language_info": {
   "codemirror_mode": {
    "name": "ipython",
    "version": 3
   },
   "file_extension": ".py",
   "mimetype": "text/x-python",
   "name": "python",
   "nbconvert_exporter": "python",
   "pygments_lexer": "ipython3",
   "version": "3.10.12"
  },
  "toc": {
   "base_numbering": 1,
   "nav_menu": {},
   "number_sections": false,
   "sideBar": true,
   "skip_h1_title": true,
   "title_cell": "Table of Contents",
   "title_sidebar": "Contents",
   "toc_cell": false,
   "toc_position": {},
   "toc_section_display": true,
   "toc_window_display": true
  }
 },
 "nbformat": 4,
 "nbformat_minor": 4
}
