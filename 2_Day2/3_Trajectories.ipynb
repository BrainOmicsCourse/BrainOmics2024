{
 "cells": [
  {
   "cell_type": "markdown",
   "metadata": {},
   "source": [
    "# Advanced trajectory inference and characterization with CellRank\n",
    "\n",
    "## Data\n",
    "\n",
    "<div style=\"padding-top: 10px; font-size: 15px;\">We'll start from the previously saved AnnData of metacells that we called <code>2_TrajectoriesAdata.h5ad</code>\n",
    "```\n",
    "    \n",
    "## Notebook content"
   ]
  },
  {
   "cell_type": "markdown",
   "metadata": {},
   "source": [
    "<div style=\"padding-top: 10px; font-size: 20px;\">\n",
    "Cellrank Overview:\n",
    "</div>\n",
    "\n",
    "<div>\n",
    "  <img src=\"https://cellrank.readthedocs.io/en/latest/_images/100_cellrank_overview.png\" width=\"800\">\n",
    "</div>\n",
    "\n",
    "<div>\n",
    "  <p>\n",
    "    <strong>Reference:</strong> \n",
    "    <a href=\"https://www.nature.com/articles/s41592-024-02303-9\">CellRank 2: unified fate mapping in multiview single-cell data</a>\n",
    "  </p>\n",
    "</div>\n",
    "\n",
    "\n",
    "\n",
    "<div style=\"padding-top: 10px; font-size: 15px;\">\n",
    "    <p>\n",
    "        Cellrank allows to easily convert directed (e.g., pseudotime) and/or undirected (static transcriptional similarity) neighbor graphs into <strong>cell–cell transition matrices</strong>.<br>\n",
    "        Cell–cell transition matrices derived from diverse modalities can be combined to model the cells' relationships and their hierarchies.<br><br>\n",
    "        The obtained model can be used to:<br>\n",
    "        <ul>\n",
    "            <li>Compute Macrostates </li>\n",
    "            <li>Compute fate probabilities</li>\n",
    "            <li>Perform other downstream tasks</li>\n",
    "        </ul>\n",
    "    </p>\n",
    "</div>\n",
    "\n",
    "To get started you can have a look at this <a href=\"https://cellrank.readthedocs.io/en/latest/notebooks/tutorials/general/100_getting_started.html\">Tutorial</a>\n",
    "\n",
    "<div class=\"alert alert-block alert-info\">\n",
    "  <b>NOTE: Here we will use CellRank capabilities to:</b>\n",
    "  \n",
    "  * Refine the trajectories obtained from the previous notebook <a href=\"./2_Palantir.ipynb\"> (2_Palantir.ipynb)</a>\n",
    "    *  Combining **Palantir pseudotime**, to **transcriptional similarity** and **Pluripotency score**\n",
    "  * Formalize fate probabilities\n",
    "  * Compute putative lineage-drive genes"
   ]
  },
  {
   "cell_type": "markdown",
   "metadata": {},
   "source": [
    "# Library loading"
   ]
  },
  {
   "cell_type": "code",
   "execution_count": null,
   "metadata": {},
   "outputs": [],
   "source": [
    "import scanpy as sc, anndata as ad, numpy as np, pandas as pd\n",
    "import warnings\n",
    "import yaml\n",
    "import os\n",
    "import warnings\n",
    "import matplotlib.pyplot as plt\n",
    "import seaborn as sns\n",
    "import scanpy.external as sce\n",
    "import scipy.sparse as sp\n",
    "import statsmodels.api as sm\n",
    "import scanpy as sc\n",
    "import cellrank as cr\n",
    "import pandas as pd\n",
    "from sklearn.cluster import KMeans\n",
    "from sklearn.metrics import pairwise_distances\n",
    "\n",
    "from sklearn_extra.cluster import KMedoids\n",
    "\n",
    "import matplotlib.pyplot \n",
    "import scanpy.external as sce\n",
    "from matplotlib.colors import TwoSlopeNorm\n",
    "import warnings\n",
    "warnings.filterwarnings('ignore')\n",
    "\n",
    "from plotly.subplots import make_subplots\n",
    "import plotly.graph_objects as go\n",
    "from scipy import stats\n",
    "warnings.filterwarnings('ignore')\n",
    "import scvelo as scv\n",
    "import plotly.express as px\n",
    "import plotly.io as pio\n",
    "import itertools\n",
    "import decoupler as dc\n",
    "import sys\n",
    "pio.renderers.default = \"jupyterlab\"\n",
    "import random\n",
    "random.seed(1)\n"
   ]
  },
  {
   "cell_type": "code",
   "execution_count": null,
   "metadata": {},
   "outputs": [],
   "source": [
    "homeDir = os.getenv(\"HOME\")\n",
    "\n",
    "sc.settings.verbosity = 3             # verbosity: errors (0), warnings (1), info (2), hints (3)\n",
    "sc.logging.print_header()\n",
    "\n",
    "import matplotlib.pyplot as plt\n",
    "sys.path.insert(1, \"./utils/\")\n",
    "\n",
    "\n",
    "from CleanAdata import *\n",
    "from SankeyOBS import *"
   ]
  },
  {
   "cell_type": "markdown",
   "metadata": {},
   "source": [
    "# Load Metacells anndata"
   ]
  },
  {
   "cell_type": "code",
   "execution_count": null,
   "metadata": {},
   "outputs": [],
   "source": [
    "n_neighb = 30\n",
    "n_pcs = 5"
   ]
  },
  {
   "cell_type": "markdown",
   "metadata": {},
   "source": [
    "<div style=\"padding-top: 10px; font-size: 15px;\">\n",
    "We load here the dataset. If you don't have this AnnData saved in the current folder, uncomment the second line and comment the first:"
   ]
  },
  {
   "cell_type": "code",
   "execution_count": null,
   "metadata": {},
   "outputs": [],
   "source": [
    "CombinedAdata = sc.read_h5ad(\"./2_TrajectoriesAdata.h5ad\")\n",
    "#CombinedAdata = sc.read_h5ad(\"/group/brainomics/InputData/2_TrajectoriesAdata.h5ad\")"
   ]
  },
  {
   "cell_type": "markdown",
   "metadata": {},
   "source": [
    "# 1 **CytoTRACE** for potency score computation\n",
    "\n",
    "<div>\n",
    "  <img src=\"https://cytotrace.stanford.edu/CytoTRACEframework2.png\" width=\"800\">\n",
    "</div>\n",
    "\n",
    "\n",
    "<div>\n",
    "  <p>\n",
    "    <strong>Reference:</strong> \n",
    "    <a href=\"https://www.science.org/doi/10.1126/science.aax0249\">Single-cell transcriptional diversity is a hallmark of developmental potential</a>\n",
    "  </p>\n",
    "</div>\n",
    "\n",
    "<div style=\"padding-top: 10px; font-size: 15px;\">We will now use one of the kernels proposed by CellRank to compute a potency score that will be later combined with Palantir pseudotime to increase the accuracy of the inferred trajectories.\n",
    "    \n",
    "<div style=\"padding-top: 10px; font-size: 15px;\">\n",
    "    <p>\n",
    "        CytoTRACE relies on the assumption that:<br> \n",
    "        <ul>\n",
    "            <li>Cells expressing <strong>more genes</strong> are likely <strong>less differentiated</strong> </li>\n",
    "            <li>Less differentiated cells <strong>must be present</strong> in the analysed SC dataset</li>\n",
    "        </ul>\n",
    "    </p>\n",
    "</div>"
   ]
  },
  {
   "cell_type": "code",
   "execution_count": null,
   "metadata": {},
   "outputs": [],
   "source": [
    "from cellrank.kernels import ConnectivityKernel\n",
    "from cellrank.kernels import CytoTRACEKernel\n",
    "from cellrank.kernels import PseudotimeKernel\n",
    "\n",
    "#Cytotrace\n",
    "adataCR = CombinedAdata.copy()\n",
    "\n",
    "adataRaw = adataCR.copy()\n",
    "adataRaw.X = adataRaw.layers[\"median\"].copy()\n",
    "\n",
    "adataCR.raw = adataRaw.copy()"
   ]
  },
  {
   "cell_type": "markdown",
   "metadata": {},
   "source": [
    "<div style=\"padding-top: 10px; font-size: 15px;\">\n",
    "CytoTRACE needs a transition matrix to calculate the score of differentiation potential. We use use <code>scvelo.pp.moments()</code> to compute it for each cell according to its neighbourhood as it will evaluate the numbers of genes expressed in the cells and in its neighbourhood. For this, with single cells we would copy the X matrix in the \"spliced\" and \"unspliced\" layers. However, single cell counts are sparse while the metacells are not as sparse anymore by construction. For this reason, we will use the layer storing the median of the counts of each gene in a metacells as it preserve some of the sparsity of the original dataset. "
   ]
  },
  {
   "cell_type": "code",
   "execution_count": null,
   "metadata": {},
   "outputs": [],
   "source": [
    "adataCR.layers[\"spliced\"] = adataCR.layers[\"median\"].copy()\n",
    "adataCR.layers[\"unspliced\"] = adataCR.layers[\"median\"].copy()\n",
    "\n",
    "# win n_pcs = None and n_neighnors = None the function will use the parameters already stored in the AnnData\n",
    "scv.pp.moments(adataCR, n_pcs=None, n_neighbors=None, use_highly_variable=False)"
   ]
  },
  {
   "cell_type": "markdown",
   "metadata": {},
   "source": [
    "<div style=\"padding-top: 10px; font-size: 15px;\">\n",
    "We create the CytoTRACE score by running the following command:\n",
    "</div>"
   ]
  },
  {
   "cell_type": "code",
   "execution_count": null,
   "metadata": {
    "scrolled": true
   },
   "outputs": [],
   "source": [
    "ctk = CytoTRACEKernel(adataCR).compute_cytotrace(use_raw=True).compute_transition_matrix(threshold_scheme=\"soft\", nu=0.5)"
   ]
  },
  {
   "cell_type": "markdown",
   "metadata": {},
   "source": [
    "<div style=\"padding-top: 10px; font-size: 15px;\">\n",
    "    \n",
    "Specifically:\n",
    "\n",
    "<ul>\n",
    "    <li><code>CytoTRACEKernel(adataCR)</code>: Initializes the kernel with adataCR as input. </li>\n",
    "    <li><code>.compute_cytotrace(use_raw=True)</code>: Computes the CytoTRACE scores (differentiation potential) using the data stored in adataCR.raw.</li>\n",
    "    <li><code>.compute_transition_matrix(threshold_scheme=\"soft\", nu=0.5)</code>: Computes a transition matrix, which reflects the probabilities of cells transitioning from one state to another. The threshold_scheme=\"soft\" and nu=0.5 are parameters that affect how the transition probabilities are scaled or normalized. For more info, have a look at the <a href=\"https://cellrank.readthedocs.io/en/latest/api/_autosummary/kernels/cellrank.kernels.CytoTRACEKernel.html#compute-transition-matrix\">API</a>. </li>\n",
    "</ul>\n",
    "\n",
    "We can compare the results of CytoTRACE and Palantir:\n",
    "</div>"
   ]
  },
  {
   "cell_type": "code",
   "execution_count": null,
   "metadata": {},
   "outputs": [],
   "source": [
    "sc.pl.draw_graph(adataCR, color=[\"ct_pseudotime\",\"palantir_pseudotime\",\"AggregatedLabel\"], add_outline=True)"
   ]
  },
  {
   "cell_type": "markdown",
   "metadata": {},
   "source": [
    "## 1.2 CytoTRACE and Palantir combination \n",
    "\n",
    "<div style=\"padding-top: 10px; font-size: 15px;\">\n",
    "We now combine the following scores by summing them up after scaling their contribution by a certain weight:\n",
    "\n",
    "<ul>\n",
    "<li> <b>CytoTRACE</b> output  <span style=\"color: #ff6347;\"><b><i>(CTK)</b></i></span></li>\n",
    "<li> already available <b>Palantir pseudotime</b> from previous notebook <span style=\"color: #566ce8;\"><b><i>(PK)</b></i></span></li>\n",
    "<li> <b>transcriptional similarity</b> <span style=\"color: #1ed42d;\"><b><i>(CK)</b></i></span></li>\n",
    "</ul>\n",
    "</div>"
   ]
  },
  {
   "cell_type": "code",
   "execution_count": null,
   "metadata": {},
   "outputs": [],
   "source": [
    "# connectivities\n",
    "ck = ConnectivityKernel(adataCR).compute_transition_matrix()\n",
    "\n",
    "# dpt\n",
    "pk = PseudotimeKernel(adataCR, time_key=\"palantir_pseudotime\").compute_transition_matrix()\n",
    "\n",
    "combined_kernel = .8 * pk + .2 * ctk + .1 * ck \n",
    "combined_kernel"
   ]
  },
  {
   "cell_type": "markdown",
   "metadata": {},
   "source": [
    "# 2. Macrostate estimation\n",
    "\n",
    "<div style=\"padding-top: 10px; font-size: 15px;\">\n",
    "Finally we use GPCCA (Generalized Perron Cluster Cluster Analysis) estimator to compute macrostates and cell-cell dynamics from the <b>combined_kernel</b>. Specifically, this estimator will output a soft classification of cells to macrostates and a transition matrix of those. For more information, have a look at the <a href=\"https://cellrank.readthedocs.io/en/latest/api/_autosummary/estimators/cellrank.estimators.GPCCA.html#cellrank.estimators.GPCCA\">API</a>"
   ]
  },
  {
   "cell_type": "code",
   "execution_count": null,
   "metadata": {},
   "outputs": [],
   "source": [
    "from cellrank.estimators import GPCCA\n",
    "\n",
    "g = GPCCA(combined_kernel)\n",
    "print(g)"
   ]
  },
  {
   "cell_type": "markdown",
   "metadata": {},
   "source": [
    "<div style=\"padding-top: 10px; font-size: 15px;\">\n",
    "Since we are giving a `cluster_key` names and colors of the states will be associated with the existing clusters:"
   ]
  },
  {
   "cell_type": "code",
   "execution_count": null,
   "metadata": {},
   "outputs": [],
   "source": [
    "g.fit(n_states=4, cluster_key=\"AggregatedLabel\")\n",
    "g.plot_macrostates(which=\"all\", basis=\"X_draw_graph_fa\")"
   ]
  },
  {
   "cell_type": "markdown",
   "metadata": {},
   "source": [
    "<div style=\"padding-top: 10px; font-size: 15px;\">\n",
    "Here we <span style=\"color: #ff6347;\">manually</span> assign initial and terminal states from the detected macrostates"
   ]
  },
  {
   "cell_type": "code",
   "execution_count": null,
   "metadata": {},
   "outputs": [],
   "source": [
    "g.set_initial_states(\"CycProg\")\n",
    "g.set_terminal_states([\"RG_late\", \"SubPlate\",\"OPC_Oligo\"])\n",
    "g.compute_fate_probabilities()\n",
    "g.plot_fate_probabilities(basis=\"X_draw_graph_fa\", same_plot=False, add_outline=True)"
   ]
  },
  {
   "cell_type": "code",
   "execution_count": null,
   "metadata": {},
   "outputs": [],
   "source": [
    "[\"RG_late\", \"SubPlate\",\"OPC_Oligo\"]"
   ]
  },
  {
   "cell_type": "markdown",
   "metadata": {},
   "source": [
    "# 3. Computation of **lineage drivers**\n",
    "\n",
    "<div style=\"padding-top: 10px; font-size: 15px;\">\n",
    "Lineage driver genes are obtained by <span style=\"color: #ff6347;\">correlating</span> the fate probabilities with gene expression with gene-expression through `compute_lineage_drivers()` function"
   ]
  },
  {
   "cell_type": "code",
   "execution_count": null,
   "metadata": {},
   "outputs": [],
   "source": [
    "# compute driver genes\n",
    "driver_df = g.compute_lineage_drivers()\n",
    "\n",
    "# define set of genes to annotate\n",
    "SubPlate_genes = [\"STMN2\", \"NEUROD2\"]\n",
    "RG_late_genes = [\"GFAP\", \"HOPX\"]\n",
    "\n",
    "\n",
    "\n",
    "genes_oi = {\n",
    "    \"SubPlate\": SubPlate_genes,\n",
    "    \"RG_late\": RG_late_genes,\n",
    "}\n",
    "\n",
    "# make sure all of these exist in AnnData\n",
    "assert [\n",
    "    gene in adataCR.var_names for genes in genes_oi.values() for gene in genes\n",
    "], \"Did not find all genes\"\n",
    "\n",
    "adataCR.var[\"mean expression\"] = adataCR.X.A.mean(axis=0)\n",
    "\n",
    "\n",
    "# visualize in a scatter plot\n",
    "g.plot_lineage_drivers_correlation(\n",
    "    lineage_x=\"SubPlate\",\n",
    "    lineage_y=\"RG_late\",\n",
    "    adjust_text=True,\n",
    "    gene_sets=genes_oi,\n",
    "    color=\"mean expression\",\n",
    "    legend_loc=\"none\",\n",
    "    figsize=(5, 5),\n",
    "    dpi=150,\n",
    "    fontsize=9,\n",
    "    size=50,\n",
    ")"
   ]
  },
  {
   "cell_type": "markdown",
   "metadata": {},
   "source": [
    "<div style=\"padding-top: 10px; font-size: 15px;\">\n",
    "We can obtain gene expression trends for each main trajectory by weighting each cells by its fate probability fitting a Generalized Additive Model (GAM). For more information on this you can have a look at the <a href=\"https://www.nature.com/articles/s41592-024-02303-9\">API</a>"
   ]
  },
  {
   "cell_type": "code",
   "execution_count": null,
   "metadata": {},
   "outputs": [],
   "source": [
    "model = cr.models.GAMR(adataCR, n_knots=6, smoothing_penalty=10.0)"
   ]
  },
  {
   "cell_type": "code",
   "execution_count": null,
   "metadata": {},
   "outputs": [],
   "source": [
    "# compute putative drivers for the Beta trajectory\n",
    "OPC_Oligo_drivers = g.compute_lineage_drivers(lineages=\"OPC_Oligo\")\n",
    "\n",
    "# plot heatmap\n",
    "cr.pl.heatmap(\n",
    "    adataCR,\n",
    "    model=model,  # use the model from before\n",
    "    lineages=\"OPC_Oligo\",\n",
    "    cluster_key=\"AggregatedLabel\",\n",
    "    show_fate_probabilities=True,\n",
    "    data_key=\"MAGIC_imputed_data\",\n",
    "    genes=OPC_Oligo_drivers.head(40).index,\n",
    "    time_key=\"palantir_pseudotime\",\n",
    "    figsize=(12, 10),\n",
    "    show_all_genes=True,\n",
    "    weight_threshold=(1e-3, 1e-3),\n",
    ")"
   ]
  },
  {
   "cell_type": "code",
   "execution_count": null,
   "metadata": {},
   "outputs": [],
   "source": [
    "# compute putative drivers for the Beta trajectory\n",
    "SubPlate_drivers = g.compute_lineage_drivers(lineages=\"SubPlate\")\n",
    "\n",
    "# plot heatmap\n",
    "cr.pl.heatmap(\n",
    "    adataCR,\n",
    "    model=model,  # use the model from before\n",
    "    lineages=\"SubPlate\",\n",
    "    cluster_key=\"AggregatedLabel\",\n",
    "    show_fate_probabilities=True,\n",
    "    data_key=\"MAGIC_imputed_data\",\n",
    "    genes=SubPlate_drivers.head(40).index,\n",
    "    time_key=\"palantir_pseudotime\",\n",
    "    figsize=(12, 10),\n",
    "    show_all_genes=True,\n",
    "    weight_threshold=(1e-3, 1e-3),\n",
    ")"
   ]
  },
  {
   "cell_type": "code",
   "execution_count": null,
   "metadata": {},
   "outputs": [],
   "source": [
    "# compute putative drivers for the Beta trajectory\n",
    "RG_late_drivers = g.compute_lineage_drivers(lineages=\"RG_late\")\n",
    "\n",
    "# plot heatmap\n",
    "cr.pl.heatmap(\n",
    "    adataCR,\n",
    "    model=model,  # use the model from before\n",
    "    lineages=\"RG_late\",\n",
    "    cluster_key=\"AggregatedLabel\",\n",
    "    show_fate_probabilities=True,\n",
    "    data_key=\"MAGIC_imputed_data\",\n",
    "    genes=RG_late_drivers.head(40).index,\n",
    "    time_key=\"palantir_pseudotime\",\n",
    "    figsize=(12, 10),\n",
    "    show_all_genes=True,\n",
    "    weight_threshold=(1e-3, 1e-3),\n",
    ")"
   ]
  },
  {
   "cell_type": "markdown",
   "metadata": {},
   "source": [
    "# Save"
   ]
  },
  {
   "cell_type": "code",
   "execution_count": null,
   "metadata": {},
   "outputs": [],
   "source": [
    "# Save the estimator\n",
    "g.write(\"./GPCCA.pickle\")"
   ]
  },
  {
   "cell_type": "code",
   "execution_count": null,
   "metadata": {},
   "outputs": [],
   "source": [
    "# Save anndata\n",
    "adataCR.write_h5ad(\"./3_CellrankAdata.h5ad\")"
   ]
  }
 ],
 "metadata": {
  "kernelspec": {
   "display_name": "Python [conda env:day3_env] *",
   "language": "python",
   "name": "conda-env-day3_env-py"
  },
  "language_info": {
   "codemirror_mode": {
    "name": "ipython",
    "version": 3
   },
   "file_extension": ".py",
   "mimetype": "text/x-python",
   "name": "python",
   "nbconvert_exporter": "python",
   "pygments_lexer": "ipython3",
   "version": "3.12.5"
  }
 },
 "nbformat": 4,
 "nbformat_minor": 4
}
