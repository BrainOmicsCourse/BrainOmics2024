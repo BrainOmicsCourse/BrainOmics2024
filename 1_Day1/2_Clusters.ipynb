{
 "cells": [
  {
   "cell_type": "markdown",
   "metadata": {
    "tags": []
   },
   "source": [
    "# Mid-gestation fetal cortex dataset: Cluster characterization\n",
    "\n",
    "_**Single cell transcriptomics dataset from paper published by Trevino et al. (Cell 2021) characterizing human fetal cortex at mid-gestation**._\n",
    "\n",
    "__Upstream Steps__\n",
    "\n",
    "* Assemble adata\n",
    "* QC filter on cells\n",
    "* Expression filter on genes\n",
    "* Normalization and log10 transformation by Scanpy functions\n",
    "* Feature selection (HVG) by Scanpy functions\n",
    "* Dimensionality reduction\n",
    "* Batch correction by Harmony\n",
    "* Cluster identification\n",
    "\n",
    "__This notebook__\n",
    "\n",
    "* Cluster characterization\n"
   ]
  },
  {
   "cell_type": "markdown",
   "metadata": {},
   "source": [
    "----"
   ]
  },
  {
   "cell_type": "markdown",
   "metadata": {
    "tags": []
   },
   "source": [
    "# 1. Environment Set Up\n",
    "\n",
    "## 1.1 Library upload"
   ]
  },
  {
   "cell_type": "code",
   "execution_count": null,
   "metadata": {},
   "outputs": [],
   "source": [
    "import os\n",
    "import sys\n",
    "\n",
    "import numpy as np\n",
    "import pandas as pd\n",
    "import igraph as ig\n",
    "import scanpy as sc\n",
    "import scanpy.external as sce\n",
    "from scipy.sparse import csr_matrix, isspmatrix\n",
    "import gseapy as gp\n",
    "\n",
    "#Plotting\n",
    "import matplotlib.pyplot as plt\n",
    "import seaborn as sns\n",
    "\n",
    "#ultils\n",
    "#import ipynbname\n",
    "from datetime import datetime"
   ]
  },
  {
   "cell_type": "code",
   "execution_count": null,
   "metadata": {},
   "outputs": [],
   "source": [
    "# Custom functions\n",
    "sys.path.append('HelperFunctions')\n",
    "import Day1Helper as fn"
   ]
  },
  {
   "cell_type": "code",
   "execution_count": null,
   "metadata": {},
   "outputs": [],
   "source": [
    "sc.settings.verbosity = 3\n",
    "sc.settings.set_figure_params(dpi=80, fontsize=12)"
   ]
  },
  {
   "cell_type": "markdown",
   "metadata": {},
   "source": [
    "## 1.2 Start Computation time"
   ]
  },
  {
   "cell_type": "code",
   "execution_count": null,
   "metadata": {},
   "outputs": [],
   "source": [
    "print(datetime.now())"
   ]
  },
  {
   "cell_type": "markdown",
   "metadata": {},
   "source": [
    "----"
   ]
  },
  {
   "cell_type": "markdown",
   "metadata": {
    "tags": []
   },
   "source": [
    "# 2. Read input files  "
   ]
  },
  {
   "cell_type": "code",
   "execution_count": null,
   "metadata": {},
   "outputs": [],
   "source": [
    "path = '../DataDir/InputData/'\n",
    "Id = 'Day1_2_TrevinoFiltNormAdata.h5ad'\n",
    "\n",
    "input_file = path + Id\n",
    "\n",
    "adata = sc.read(input_file)"
   ]
  },
  {
   "cell_type": "code",
   "execution_count": null,
   "metadata": {},
   "outputs": [],
   "source": [
    "print('Loaded Normalizes AnnData object: number of cells', adata.n_obs)\n",
    "print('Loaded Normalizes AnnData object: number of genes', adata.n_vars)\n",
    "\n",
    "print('Available metadata for each cell: ', adata.obs.columns)"
   ]
  },
  {
   "cell_type": "markdown",
   "metadata": {},
   "source": [
    "# 3. Cluster characteristics"
   ]
  },
  {
   "cell_type": "markdown",
   "metadata": {},
   "source": [
    "## 3.1 Check with original annotation"
   ]
  },
  {
   "cell_type": "code",
   "execution_count": null,
   "metadata": {},
   "outputs": [],
   "source": [
    "sc.settings.set_figure_params(fontsize=9, figsize=[8, 6])\n",
    "\n",
    "sc.pl.embedding(adata, basis=\"X_umap_harmony\", color=['Leiden_Sel','cell_label', 'cell_class'],\n",
    "                legend_loc='on data')"
   ]
  },
  {
   "cell_type": "code",
   "execution_count": null,
   "metadata": {},
   "outputs": [],
   "source": [
    "pd.crosstab(adata.obs['cell_class'], adata.obs['Leiden_Sel'], normalize = 'columns', margins=True)"
   ]
  },
  {
   "cell_type": "markdown",
   "metadata": {},
   "source": [
    "> `_Try yourself_:` \n",
    "> `what if you want to see total number of cells instead of %?`"
   ]
  },
  {
   "cell_type": "code",
   "execution_count": null,
   "metadata": {},
   "outputs": [],
   "source": [
    "# write your code here"
   ]
  },
  {
   "cell_type": "markdown",
   "metadata": {},
   "source": [
    "> `_Try yourself_:` \n",
    "> `what if you want to compare with the more granular annotation?`"
   ]
  },
  {
   "cell_type": "code",
   "execution_count": null,
   "metadata": {},
   "outputs": [],
   "source": [
    "# write your code here"
   ]
  },
  {
   "cell_type": "markdown",
   "metadata": {},
   "source": [
    "#### Comparison outcome\n",
    "From the comparison above, we can hypothesize a first large-grain definition of our clusters."
   ]
  },
  {
   "cell_type": "markdown",
   "metadata": {},
   "source": [
    "* __Excitatory Neurons__: C2, C3 (IPC), C4, C9\n",
    "* __Inhibitory Neurons__: C6, C8, C11\n",
    "* __Progenitors__: C1, C7\n",
    "* __Glia__: C0 (progenitors, OPC), C10 (microglia)\n",
    "* __Other__: C5"
   ]
  },
  {
   "cell_type": "markdown",
   "metadata": {},
   "source": [
    "## 3.2 Cluster dendrogram"
   ]
  },
  {
   "cell_type": "code",
   "execution_count": null,
   "metadata": {},
   "outputs": [],
   "source": [
    "sc.settings.set_figure_params(fontsize=10, figsize=[8, 6])\n",
    "\n",
    "sc.tl.dendrogram(adata, groupby='Leiden_Sel', n_pcs=5, cor_method='spearman', linkage_method='average')\n",
    "sc.pl.dendrogram(adata, groupby='Leiden_Sel', orientation='left')"
   ]
  },
  {
   "cell_type": "markdown",
   "metadata": {},
   "source": [
    "> `_Try yourself_:` \n",
    "> `How to compare to a dendrogram created on the annotation from the original paper?`"
   ]
  },
  {
   "cell_type": "code",
   "execution_count": null,
   "metadata": {},
   "outputs": [],
   "source": [
    "# write your code here"
   ]
  },
  {
   "cell_type": "markdown",
   "metadata": {},
   "source": [
    "----"
   ]
  },
  {
   "cell_type": "markdown",
   "metadata": {},
   "source": [
    "# 4. Population markers\n",
    "\n",
    "* Supervised approach: plot on the UMAP your own set of population markers\n",
    "* The definition of the markers strongly depends on biological knowledge and liteature survey, and it is context-dependent\n",
    "* As an example, we define below a dictionary of markers usually checked in cortex datasets (not comprehensive!!)\n",
    "* We use the __customUmap__ function defined in the helper file: check there to go back to the basic scanpy function, for the fine-tuning of the parameters or to create your own custom function\n"
   ]
  },
  {
   "cell_type": "code",
   "execution_count": null,
   "metadata": {},
   "outputs": [],
   "source": [
    "marker_dictionary = {\n",
    "\n",
    "    'Proliferating_Progenitors': ['MKI67', 'CDC20', 'HMGB2', 'CCNB1', 'CCNB2', 'ASPM'], \n",
    "    'Radial_Glia': ['SOX2', 'PAX6', 'NES', 'VIM', 'HES1', 'GLI3'],\n",
    "    'Intermediate_Progenitors': ['EOMES', 'ELAVL4', 'NHLH1', 'KCNQ3', 'INSM1', 'HES6'], \n",
    "    'oRG': ['FAM107A', 'HOPX',  'PTPRZ1', 'TNC', 'ITGB5'], \n",
    "    \n",
    "    'Neurons': ['GAP43', 'DCX', 'STMN2', 'MAP2', 'SYT1', 'MEF2C'], \n",
    "    \n",
    "    'Excitatory_Progenitors': ['EMX1', 'NEUROD1', 'NEUROD2', 'NEUROD6', 'NEUROG2', 'NEUROG1'],\n",
    "    'Excitatory_Neurons': ['SLC17A6', 'SLC17A7', 'GRIN2A', 'GRIN2B', 'SLA'], \n",
    "    \n",
    "    'Inhibitory_Early': ['NKX2-1', 'DLX5', 'DLX6', 'DLX1', 'DLX2', 'DLX6-AS1'],\n",
    "    'Inhibitory_Neurons': ['GAD1', 'GAD2', 'SLC32A1', 'CALB1', 'CALB2', 'NPY', 'SST', 'PVALB', 'VIP'],\n",
    "    \n",
    "    'Astrocytes': ['GFAP', 'SLC1A3',  'S100B', 'AQP4', 'ALDH1L1', 'TNC'], \n",
    "    'Microglia': ['PTPRC', 'AIF1', 'CCL3', 'ITGAM', 'CX3CR1', 'CD74'], \n",
    "    \n",
    "    'Endothelial_Pericytes': ['CLDN5', 'PECAM1', 'ABCG2', 'FOXC2', 'PDGFRB', 'IFITM2'], \n",
    "    }"
   ]
  },
  {
   "cell_type": "code",
   "execution_count": null,
   "metadata": {},
   "outputs": [],
   "source": [
    "sc.settings.set_figure_params(dpi=80, fontsize=12)\n",
    "\n",
    "for population in marker_dictionary: \n",
    "    print(f\"{population.upper()}:\")\n",
    "    fn.customUmap(adata, marker_dictionary[population], size=8)\n",
    "    print(\"\\n\\n\\n\")"
   ]
  },
  {
   "cell_type": "markdown",
   "metadata": {},
   "source": [
    "> `_Try yourself_:` \n",
    "> `define below a small dictionary of genes you are interested in and plot them on the UMAP`"
   ]
  },
  {
   "cell_type": "code",
   "execution_count": null,
   "metadata": {},
   "outputs": [],
   "source": [
    "# write your code here"
   ]
  },
  {
   "cell_type": "markdown",
   "metadata": {},
   "source": [
    "------"
   ]
  },
  {
   "cell_type": "markdown",
   "metadata": {},
   "source": [
    "# 5. Cluster Top Markers"
   ]
  },
  {
   "cell_type": "markdown",
   "metadata": {},
   "source": [
    "## 5.1 Identify Cluster top-markers\n",
    "\n",
    "For each cluster, top-marker genes are identified by comparing the expression in that cluster versus all the others. Scanpy [tl.rank_genes_groups](https://scanpy.readthedocs.io/en/stable/generated/scanpy.tl.rank_genes_groups.html) function is used to this purpose.\n",
    "* groupby: cluster labels\n",
    "* method: statistical method for differential expression analysis. Here we specify Wilcoxon test (non-parametric). "
   ]
  },
  {
   "cell_type": "code",
   "execution_count": null,
   "metadata": {},
   "outputs": [],
   "source": [
    "adata.uns['log1p']['base'] = None\n",
    "sc.tl.rank_genes_groups(adata, groupby='Leiden_Sel', method='wilcoxon', key_added='wilcox', \n",
    "                       use_raw=False, pts=True)"
   ]
  },
  {
   "cell_type": "code",
   "execution_count": null,
   "metadata": {},
   "outputs": [],
   "source": [
    "GroupMarkers = pd.DataFrame(adata.uns['wilcox']['names']).head(101)\n",
    "GroupMarkers.columns = 'Cl_' + GroupMarkers.columns\n",
    "\n",
    "GroupMarkers.head(11)"
   ]
  },
  {
   "cell_type": "markdown",
   "metadata": {},
   "source": [
    "## 5.2 Visualize marker genes\n",
    "\n",
    "### DotPlot"
   ]
  },
  {
   "cell_type": "code",
   "execution_count": null,
   "metadata": {},
   "outputs": [],
   "source": [
    "sc.pl.rank_genes_groups_dotplot(adata, n_genes=4, key='wilcox', standard_scale=\"var\")  \n",
    "# standard scale: normalize each gene to range from 0 to 1"
   ]
  },
  {
   "cell_type": "markdown",
   "metadata": {},
   "source": [
    "## 5.3 Filter top marker genes\n",
    "\n",
    "* To improve the specificity of the markers, we can filter top-markers genes, e.g. considering ther % of expression in the target population and in the other cells.\n",
    "* We can then plot again the results with dotplot or matrixplot"
   ]
  },
  {
   "cell_type": "code",
   "execution_count": null,
   "metadata": {},
   "outputs": [],
   "source": [
    "sc.tl.filter_rank_genes_groups(\n",
    "    adata,\n",
    "    min_in_group_fraction=0.3,\n",
    "    max_out_group_fraction=0.2,\n",
    "    key=\"wilcox\", key_added=\"wilcox_filt\",\n",
    ")"
   ]
  },
  {
   "cell_type": "code",
   "execution_count": null,
   "metadata": {},
   "outputs": [],
   "source": [
    "sc.pl.rank_genes_groups_dotplot(adata, n_genes=4, key='wilcox', \n",
    "                               standard_scale=\"var\") "
   ]
  },
  {
   "cell_type": "code",
   "execution_count": null,
   "metadata": {},
   "outputs": [],
   "source": [
    "sc.pl.rank_genes_groups_dotplot(\n",
    "    adata, key='wilcox', n_genes=4,\n",
    "    values_to_plot=\"logfoldchanges\",\n",
    "    cmap='bwr', vmin=-4, vmax=4, min_logfoldchange=2,\n",
    "    colorbar_title='log fold change',\n",
    ")"
   ]
  },
  {
   "cell_type": "code",
   "execution_count": null,
   "metadata": {},
   "outputs": [],
   "source": [
    "sc.pl.rank_genes_groups_matrixplot(adata, n_genes=5, key='wilcox_filt', standard_scale=\"var\")"
   ]
  },
  {
   "cell_type": "markdown",
   "metadata": {},
   "source": [
    "## 5.4 Marker overlap\n",
    "\n",
    "* To gain further information on our clusters, we can overlap the top-genes of each cluster with external gene sets (e.g. reliable sets of population marker genes; genes identified by other studies, etc.).\n",
    "* As an example, here we overlap the marker dictionary defined above"
   ]
  },
  {
   "cell_type": "code",
   "execution_count": null,
   "metadata": {},
   "outputs": [],
   "source": [
    "marker_overlap = sc.tl.marker_gene_overlap(adata, marker_dictionary, key='wilcox', \n",
    "                         top_n_markers=100, method='jaccard')\n",
    "\n",
    "marker_overlap.columns = marker_overlap.columns.astype('category')"
   ]
  },
  {
   "cell_type": "code",
   "execution_count": null,
   "metadata": {},
   "outputs": [],
   "source": [
    "sns.set_theme()\n",
    "f, ax = plt.subplots(figsize=(10, 7))\n",
    "sns.heatmap(marker_overlap, linewidths=.5, ax=ax, cmap = 'PuBu')"
   ]
  },
  {
   "cell_type": "markdown",
   "metadata": {},
   "source": [
    "----"
   ]
  },
  {
   "cell_type": "markdown",
   "metadata": {},
   "source": [
    "# 6. Functional analysis by gseapy"
   ]
  },
  {
   "cell_type": "markdown",
   "metadata": {},
   "source": [
    "## 6.1 Approaches\n",
    "\n",
    "### Overview\n",
    "Two main approaches can be employed\n",
    "\n",
    "* __over-representation analysis__: test for enrichment of functionally relevant gene sets in the pool of the gene of interest (e.g. genes selected as cluster markers, DEGs) compared to the gene universe (all expressed/tested genes).  \n",
    "* __gsea-like approaches__: rank all tested genes according to statistical metrics (e.g. PValue, Fold-Change, etc.) and test the distribution of the gene sets along the list (e.g. more present in the top-part of the list vs evenly distributed).  \n",
    "\n",
    "Each of these methods has advantages and drawbacks. In general, take into consideration that functional enrichment analyses are just a way to try to describe from a functional point of view your list of genes; they rely on vocabularies that can be variably complete and tuned to your biological system.\n",
    "Considering this, it is wiser to use the results as complementary to evidence coming from other approaches, rather than blindly and acritically rely on them.\n",
    "\n",
    "### Gseapy\n",
    "\n",
    "* [Read the docs](https://gseapy.readthedocs.io/en/latest/index.html)\n",
    "* [Bioinformatics Paper](https://academic.oup.com/bioinformatics/article/39/1/btac757/6847088)\n",
    "* [GitHub repo](https://github.com/zqfang/GSEApy)\n",
    "\n",
    "### Other tools\n",
    "\n",
    "* [GProfiler](https://pypi.org/project/gprofiler-official/)\n",
    "* [Decoupler](https://decoupler-py.readthedocs.io/en/latest/)\n",
    "* [TopGO](https://bioconductor.org/packages/devel/bioc/vignettes/topGO/inst/doc/topGO.pdf)"
   ]
  },
  {
   "cell_type": "code",
   "execution_count": null,
   "metadata": {},
   "outputs": [],
   "source": [
    "# to check available gene sets\n",
    "gp.get_library_name()[:5]"
   ]
  },
  {
   "cell_type": "markdown",
   "metadata": {},
   "source": [
    "## 6.2 Pre-ranked GSEA\n",
    "\n",
    "* the custom function __customGseapy__ (see helper file) first generates the list of marker genes ranked according to scanpy-calculated score for the cluster of interest\n",
    "* GSEA is then applied to the pre-ranked list for the gene sets of interests\n",
    "* as an example, here we test two genes sets (GO Biological Process; Cell Markers collection) on a subset of clusters."
   ]
  },
  {
   "cell_type": "code",
   "execution_count": null,
   "metadata": {},
   "outputs": [],
   "source": [
    "# C1: progenitors - C8: inhibitory neurons - C9: excitatory neurons - C10: microglia \n",
    "\n",
    "Cl = ['1', '8' , '9', '10']\n",
    "\n",
    "for i in Cl: \n",
    "    print(\"\\n\\n {}\".format(i)) \n",
    "    display(fn.customGseapy(adata, cluster=i, rank='wilcox', \n",
    "                            sets = ['GO_Biological_Process_2023'],\n",
    "                            fdr_th=0.005, nes_th=1.75, show=5))"
   ]
  },
  {
   "cell_type": "markdown",
   "metadata": {},
   "source": [
    "# 7. Examine a gene list of interest"
   ]
  },
  {
   "cell_type": "markdown",
   "metadata": {},
   "source": [
    "## 7.1 Define gene signatures\n"
   ]
  },
  {
   "cell_type": "code",
   "execution_count": null,
   "metadata": {},
   "outputs": [],
   "source": [
    "semaforins = fn.selectMarkers(adata, [\"SEMA3A\",\"SEMA3B\",\"SEMA3C\",\"SEMA3E\",\"SEMA3F\",\"SEMA4A\",\"SEMA4B\",\n",
    "              \"SEMA4C\",\"SEMA4D\",\"SEMA4F\",\"SEMA4G\",\"SEMA5A\",\"SEMA5B\",\"SEMA6A\",\"SEMA6B\",\"SEMA6C\",\"SEMA6D\",\"SEMA7A\"])\n",
    "\n",
    "#Kegg Steroid biosynthesis genes\n",
    "steroid = fn.selectMarkers(adata, [\"CEL\",\"CYP27B1\",\"CYP51A1\",\"DHCR24\",\"DHCR7\",\"EBP\",\"FDFT1\",\"HSD17B7\",\"LIPA\",\"LSS\",\"MSMO1\",\n",
    "                                   \"NSDHL\",\"SC5D\",\"SOAT1\",\"SOAT2\",\"SQLE\",\"TM7SF2\"])\n",
    "\n",
    "TFs = fn.selectMarkers(adata, ['DLX5', 'DLX1', 'SOX9', 'MEIS2', \n",
    "      'NEUROG2', 'NEUROD1', 'LHX5', 'LHX2', \n",
    "      'LHX9', 'EN1', 'EMX2', 'EMX1'])"
   ]
  },
  {
   "cell_type": "markdown",
   "metadata": {},
   "source": [
    "## 7.2 Visualize levels across clusters"
   ]
  },
  {
   "cell_type": "markdown",
   "metadata": {},
   "source": [
    "#### Plot 'semaforins' across clusters by Stacked Violins "
   ]
  },
  {
   "cell_type": "code",
   "execution_count": null,
   "metadata": {},
   "outputs": [],
   "source": [
    "sc.settings.set_figure_params(figsize=[10, 8])\n",
    "sc.pl.StackedViolin(adata, semaforins, groupby='Leiden_Sel').show()"
   ]
  },
  {
   "cell_type": "markdown",
   "metadata": {},
   "source": [
    "#### Plot 'TFs' across clusters and original annotation by dotplots anda matrixplot"
   ]
  },
  {
   "cell_type": "code",
   "execution_count": null,
   "metadata": {},
   "outputs": [],
   "source": [
    "sc.pl.dotplot(adata, TFs, groupby='Leiden_Sel', swap_axes=True)"
   ]
  },
  {
   "cell_type": "code",
   "execution_count": null,
   "metadata": {},
   "outputs": [],
   "source": [
    "sc.pl.dotplot(adata, TFs, groupby='cell_label', standard_scale=\"var\", cmap='Blues', swap_axes=True)"
   ]
  },
  {
   "cell_type": "code",
   "execution_count": null,
   "metadata": {},
   "outputs": [],
   "source": [
    "sc.pl.matrixplot(adata, TFs, groupby='Leiden_Sel', swap_axes=True, standard_scale=\"var\")"
   ]
  },
  {
   "cell_type": "markdown",
   "metadata": {},
   "source": [
    "> `_Try yourself_:` \n",
    "> `plot genes involved in steroid synthesis stratified by clusters or cell labels`"
   ]
  },
  {
   "cell_type": "code",
   "execution_count": null,
   "metadata": {},
   "outputs": [],
   "source": [
    "# write your code here"
   ]
  },
  {
   "cell_type": "markdown",
   "metadata": {},
   "source": [
    "## 7.3 Calculate and visualize gene scores\n",
    "\n",
    "For a gene signature that you expect to be expressed coherently in the same cell population, you can employ the [tl.score.genes](https://scanpy.readthedocs.io/en/stable/generated/scanpy.tl.score_genes.html) to estimate an average expression score, and then plot it on the UMAP.  "
   ]
  },
  {
   "cell_type": "code",
   "execution_count": null,
   "metadata": {},
   "outputs": [],
   "source": [
    "sc.tl.score_genes(adata, steroid, score_name='steroid_score')"
   ]
  },
  {
   "cell_type": "code",
   "execution_count": null,
   "metadata": {},
   "outputs": [],
   "source": [
    "sc.pl.embedding(adata, basis=\"X_umap_harmony\", \n",
    "                color='steroid_score')"
   ]
  },
  {
   "cell_type": "markdown",
   "metadata": {},
   "source": [
    "# 8. Save"
   ]
  },
  {
   "cell_type": "markdown",
   "metadata": {},
   "source": [
    "## 8.1 Timestamp finished computations "
   ]
  },
  {
   "cell_type": "code",
   "execution_count": null,
   "metadata": {},
   "outputs": [],
   "source": [
    "print(datetime.now())"
   ]
  },
  {
   "cell_type": "markdown",
   "metadata": {},
   "source": [
    "## 8.2 Save python and html versions"
   ]
  },
  {
   "cell_type": "code",
   "execution_count": null,
   "metadata": {},
   "outputs": [],
   "source": [
    "#nb_fname = '2_Clusters'\n",
    "#nb_fname"
   ]
  },
  {
   "cell_type": "code",
   "execution_count": null,
   "metadata": {},
   "outputs": [],
   "source": [
    "#%%bash -s \"$nb_fname\"\n",
    "#jupyter nbconvert \"$1\".ipynb --to=\"python\"\n",
    "#jupyter nbconvert \"$1\".ipynb --to=\"html\""
   ]
  },
  {
   "cell_type": "code",
   "execution_count": null,
   "metadata": {},
   "outputs": [],
   "source": []
  }
 ],
 "metadata": {
  "kernelspec": {
   "display_name": "Python 3 (ipykernel)",
   "language": "python",
   "name": "python3"
  },
  "language_info": {
   "codemirror_mode": {
    "name": "ipython",
    "version": 3
   },
   "file_extension": ".py",
   "mimetype": "text/x-python",
   "name": "python",
   "nbconvert_exporter": "python",
   "pygments_lexer": "ipython3",
   "version": "3.10.12"
  }
 },
 "nbformat": 4,
 "nbformat_minor": 4
}
