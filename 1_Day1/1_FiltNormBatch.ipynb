{
 "cells": [
  {
   "cell_type": "markdown",
   "metadata": {},
   "source": [
    "# Mid-gestation fetal cortex dataset: QC and Filtering\n",
    "\n",
    "_**Single cell transcriptomics dataset from paper published by Trevino et al. (Cell 2021) characterizing human fetal cortex at mid-gestation**._"
   ]
  },
  {
   "cell_type": "markdown",
   "metadata": {},
   "source": [
    "## References\n",
    "\n",
    "* <a href=\"https://www.cell.com/cell/fulltext/S0092-8674(21)00942-9?_returnURL=https%3A%2F%2Flinkinghub.elsevier.com%2Fretrieve%2Fpii%2FS0092867421009429%3Fshowall%3Dtrue\"> Paper </a> \n",
    "* <a href=\"https://scbrainregulation.su.domains/\">Dataset interactive Viewer </a> \n",
    "\n",
    "## General info\n",
    "\n",
    "* Samples: **human fetal brain cortex at mid-gestation** (4 subjects from PCW16 to PCW24)\n",
    "* Sequencing method: **single cell** RNASequencing (Chromium platform - 10x Genomics)\n",
    "* Obtained number of cells: **~58,000**"
   ]
  },
  {
   "cell_type": "markdown",
   "metadata": {},
   "source": [
    "__Upstream Steps__\n",
    "\n",
    "* Assemble adata (see html file)\n",
    "\n",
    "\n",
    "__This notebook__\n",
    "\n",
    "* QC filter on cells\n",
    "* Expression filter on genes\n",
    "* Normalization and log10 transformation by Scanpy functions\n",
    "* Feature selection (HVG) by Scanpy functions\n",
    "* Dimensionality reduction\n",
    "* Batch correction by Harmony\n",
    "* Cluster identification"
   ]
  },
  {
   "cell_type": "markdown",
   "metadata": {},
   "source": [
    "-----"
   ]
  },
  {
   "cell_type": "markdown",
   "metadata": {
    "extensions": {
     "jupyter_dashboards": {
      "version": 1,
      "views": {
       "grid_default": {
        "col": 4,
        "height": 4,
        "hidden": false,
        "row": 0,
        "width": 4
       },
       "report_default": {}
      }
     }
    },
    "toc-hr-collapsed": true
   },
   "source": [
    "# 1. Environment"
   ]
  },
  {
   "cell_type": "markdown",
   "metadata": {},
   "source": [
    "## 1.1 Modules"
   ]
  },
  {
   "cell_type": "code",
   "execution_count": null,
   "metadata": {
    "extensions": {
     "jupyter_dashboards": {
      "version": 1,
      "views": {
       "grid_default": {
        "col": 8,
        "height": 4,
        "hidden": false,
        "row": 0,
        "width": 4
       },
       "report_default": {}
      }
     }
    }
   },
   "outputs": [],
   "source": [
    "import os\n",
    "import sys\n",
    "\n",
    "import numpy as np\n",
    "import pandas as pd\n",
    "import scanpy as sc\n",
    "import scanpy.external as sce\n",
    "from scipy.sparse import csr_matrix, isspmatrix\n",
    "\n",
    "#Plotting\n",
    "import matplotlib.pyplot as plt\n",
    "import seaborn as sns\n",
    "\n",
    "#ultils\n",
    "#import ipynbname\n",
    "from datetime import datetime"
   ]
  },
  {
   "cell_type": "code",
   "execution_count": null,
   "metadata": {},
   "outputs": [],
   "source": [
    "# Custom functions\n",
    "sys.path.append('HelperFunctions')\n",
    "import Day1Helper as fn\n",
    "#help(fn)"
   ]
  },
  {
   "cell_type": "code",
   "execution_count": null,
   "metadata": {
    "extensions": {
     "jupyter_dashboards": {
      "version": 1,
      "views": {
       "grid_default": {
        "col": 8,
        "height": 4,
        "hidden": false,
        "row": 0,
        "width": 4
       },
       "report_default": {}
      }
     }
    }
   },
   "outputs": [],
   "source": [
    "print(\"Scanpy version: \", sc.__version__)\n",
    "print(\"Pandas version: \", pd.__version__)"
   ]
  },
  {
   "cell_type": "markdown",
   "metadata": {
    "extensions": {
     "jupyter_dashboards": {
      "version": 1,
      "views": {
       "grid_default": {
        "col": 0,
        "height": 5,
        "hidden": false,
        "row": 12,
        "width": 12
       },
       "report_default": {}
      }
     }
    }
   },
   "source": [
    "## 1.2 Settings\n"
   ]
  },
  {
   "cell_type": "code",
   "execution_count": null,
   "metadata": {
    "extensions": {
     "jupyter_dashboards": {
      "version": 1,
      "views": {
       "grid_default": {
        "hidden": true
       },
       "report_default": {}
      }
     }
    }
   },
   "outputs": [],
   "source": [
    "sc.settings.verbosity = 3\n",
    "sc.settings.set_figure_params(dpi=80, fontsize=12)"
   ]
  },
  {
   "cell_type": "markdown",
   "metadata": {},
   "source": [
    "## 1.3 Files and parameters"
   ]
  },
  {
   "cell_type": "code",
   "execution_count": null,
   "metadata": {},
   "outputs": [],
   "source": [
    "path = '/group/brainomics/InputData/'\n",
    "Id = 'Day1_1_TrevinoAssembledAdata.h5ad'\n",
    "\n",
    "input_file = path + Id\n",
    "#output_file = 'MyPath' + 'Day1_2_TrevinoFiltNormAdata.h5ad'"
   ]
  },
  {
   "cell_type": "code",
   "execution_count": null,
   "metadata": {},
   "outputs": [],
   "source": [
    "#Cell filtering   \n",
    "MIN_GENES = 850\n",
    "MAX_GENES = 10000\n",
    "\n",
    "MIN_COUNTS = 1500\n",
    "MAX_COUNTS = 15000\n",
    "\n",
    "PCT_MITO = 10\n",
    "PCT_RIBO = 25\n",
    "\n",
    "#Gene Filtering\n",
    "PCT_CELLS = 0.25"
   ]
  },
  {
   "cell_type": "code",
   "execution_count": null,
   "metadata": {},
   "outputs": [],
   "source": [
    "# batch key for calculation of HVG and for Harmony correction \n",
    "BATCH_KEY = 'batch_key'"
   ]
  },
  {
   "cell_type": "code",
   "execution_count": null,
   "metadata": {},
   "outputs": [],
   "source": [
    "# Number of Principal component for UMAP\n",
    "N_PCs = 18"
   ]
  },
  {
   "cell_type": "code",
   "execution_count": null,
   "metadata": {},
   "outputs": [],
   "source": [
    "# Leiden resolution chosen for clusters\n",
    "chosen_leiden = 'Leiden_04'"
   ]
  },
  {
   "cell_type": "markdown",
   "metadata": {},
   "source": [
    "## 1.4 Start computations"
   ]
  },
  {
   "cell_type": "code",
   "execution_count": null,
   "metadata": {},
   "outputs": [],
   "source": [
    "print(datetime.now())"
   ]
  },
  {
   "cell_type": "markdown",
   "metadata": {},
   "source": [
    "----"
   ]
  },
  {
   "cell_type": "markdown",
   "metadata": {
    "extensions": {
     "jupyter_dashboards": {
      "version": 1,
      "views": {
       "grid_default": {
        "col": 0,
        "height": 4,
        "hidden": false,
        "row": 17,
        "width": 4
       },
       "report_default": {}
      }
     }
    },
    "tags": [],
    "toc-hr-collapsed": true
   },
   "source": [
    "# 2. Data Load\n"
   ]
  },
  {
   "cell_type": "markdown",
   "metadata": {},
   "source": [
    "## Background\n",
    "\n",
    "> Data are already structured as ann AnnData Object. \n",
    "\n",
    "**Anndata stores:**\n",
    "\n",
    "> 1. a sparse or dense matrix (the count matrix in the case of scRNA-Seq) __(adata.X)__. Matrix dimensions: obs_names x var_names where the obs correspond to the cells’ barcodes and the var correspond to the gene identifiers\n",
    "> 2. pandas dataframe-like annotation for observations __(adata.obs)__ and variables __(adata.var)__\n",
    "> 3. matrices of calculations for the observations __(obsm)__ or variables __(varm)__\n",
    "> 4. graph-like structures which associate cells with cells __(obsp)__ or genes __(varp)__ \n",
    "> 5. unstructured data __(adata.uns)__. \n",
    "\n",
    "> More values of X (e.g. raw and normalized data) can be stored in layers. \n",
    "\n",
    "<nav> <b> References: </b>\n",
    "\n",
    "<a href=\"https://anndata.readthedocs.io/en/latest/\"> Anndata ReadTheDocs </a> \n",
    " </nav>\n"
   ]
  },
  {
   "cell_type": "markdown",
   "metadata": {},
   "source": [
    "<img src=\"https://anndata.readthedocs.io/en/latest/_images/anndata_schema.svg\" width=\"450\">"
   ]
  },
  {
   "cell_type": "markdown",
   "metadata": {
    "extensions": {
     "jupyter_dashboards": {
      "version": 1,
      "views": {
       "grid_default": {
        "col": 0,
        "height": 8,
        "hidden": false,
        "row": 21,
        "width": 12
       },
       "report_default": {}
      }
     }
    }
   },
   "source": [
    "## 2.1 Read adata file"
   ]
  },
  {
   "cell_type": "code",
   "execution_count": null,
   "metadata": {},
   "outputs": [],
   "source": [
    "adata = sc.read(input_file)\n",
    "adata.var_names_make_unique()"
   ]
  },
  {
   "cell_type": "code",
   "execution_count": null,
   "metadata": {},
   "outputs": [],
   "source": [
    "adata"
   ]
  },
  {
   "cell_type": "markdown",
   "metadata": {},
   "source": [
    "### A. __Count Matrix__\n",
    "Stores the matrix of values: expression value of each gene in each cell."
   ]
  },
  {
   "cell_type": "code",
   "execution_count": null,
   "metadata": {},
   "outputs": [],
   "source": [
    "adata.X"
   ]
  },
  {
   "cell_type": "code",
   "execution_count": null,
   "metadata": {},
   "outputs": [],
   "source": [
    "print(adata[:,['NES']].X[:40,])"
   ]
  },
  {
   "cell_type": "markdown",
   "metadata": {},
   "source": [
    "### B. __Barcode metadata__\n",
    "Adata.obs stores the metadata about the observations: cells (rows of the expression matrix)."
   ]
  },
  {
   "cell_type": "code",
   "execution_count": null,
   "metadata": {},
   "outputs": [],
   "source": [
    "print('Initial number of barcodes:', adata.n_obs)"
   ]
  },
  {
   "cell_type": "code",
   "execution_count": null,
   "metadata": {},
   "outputs": [],
   "source": [
    "print('Barcode names: ', adata.obs_names[:10].tolist())"
   ]
  },
  {
   "cell_type": "code",
   "execution_count": null,
   "metadata": {},
   "outputs": [],
   "source": [
    "print('Available metadata for each barcode: ', adata.obs.columns)"
   ]
  },
  {
   "cell_type": "code",
   "execution_count": null,
   "metadata": {},
   "outputs": [],
   "source": [
    "adata.obs.head(3)"
   ]
  },
  {
   "cell_type": "code",
   "execution_count": null,
   "metadata": {},
   "outputs": [],
   "source": [
    "sc.settings.set_figure_params(fontsize=8, figsize=[8, 4])\n",
    "\n",
    "category_colors = plt.colormaps['RdYlGn'](\n",
    "        np.linspace(0.15, 0.85, len(adata.obs['sample_id'].value_counts())))\n",
    "\n",
    "adata.obs['sample_id'].value_counts().plot.bar(color=category_colors)"
   ]
  },
  {
   "cell_type": "code",
   "execution_count": null,
   "metadata": {},
   "outputs": [],
   "source": [
    "sc.settings.set_figure_params(fontsize=8, figsize=[8, 4])\n",
    "\n",
    "category_colors = plt.colormaps['RdYlGn'](\n",
    "        np.linspace(0.15, 0.85, len(adata.obs['sample_id'].value_counts())))\n",
    "\n",
    "adata.obs['age'].value_counts().plot.bar(color=category_colors)"
   ]
  },
  {
   "cell_type": "code",
   "execution_count": null,
   "metadata": {},
   "outputs": [],
   "source": [
    "sc.settings.set_figure_params(fontsize=8, figsize=[8, 4])\n",
    "\n",
    "category_colors = plt.colormaps['RdYlGn'](\n",
    "        np.linspace(0.15, 0.85, len(adata.obs['cell_label'].value_counts())))\n",
    "\n",
    "adata.obs['cell_label'].value_counts().plot.bar(color=category_colors)"
   ]
  },
  {
   "cell_type": "markdown",
   "metadata": {},
   "source": [
    "Starting from the authors' annotation, we also define a more high-level classification in cell_class:"
   ]
  },
  {
   "cell_type": "code",
   "execution_count": null,
   "metadata": {},
   "outputs": [],
   "source": [
    "Dict = {'ExN_N5': 'ExN', 'In_CGE': 'InN', 'ExN_N1': 'ExN',\n",
    "        'In_MGE': 'InN', 'ExN_N4': 'ExN', 'ExN_N2': 'ExN', \n",
    "        'RG_early': 'Pg', 'ExN_N7': 'ExN', 'CycProg': 'Pg', \n",
    "        'ExN_N3': 'ExN', 'RG_late': 'Pg', 'GliaPg': 'Pg', \n",
    "        'ExN_N6': 'ExN', 'SubPlate': 'ExN', 'IPC': 'IPC', \n",
    "        'ExN_N8': 'ExN', 'Microglia': 'Microglia', 'OPC_Oligo': 'OPC_Oligo', \n",
    "        'tRG': 'Pg', 'Pericytes': 'Other', 'Endo': 'Other',\n",
    "        'RBC': 'Other', 'VLMC': 'Other'\n",
    "       }\n",
    "\n",
    "adata.obs['cell_class'] = adata.obs['cell_label'].replace(Dict)"
   ]
  },
  {
   "cell_type": "code",
   "execution_count": null,
   "metadata": {},
   "outputs": [],
   "source": [
    "sc.settings.set_figure_params(fontsize=8, figsize=[8, 4])\n",
    "\n",
    "category_colors = plt.colormaps['RdYlGn'](\n",
    "        np.linspace(0.15, 0.85, len(adata.obs['cell_class'].value_counts())))\n",
    "\n",
    "adata.obs['cell_class'].value_counts().plot.bar(color=category_colors)"
   ]
  },
  {
   "cell_type": "markdown",
   "metadata": {},
   "source": [
    "### C. __Gene metadata__\n",
    "\n",
    "Adata.var stores the metadata about features: genes (columns of the expression matrix). "
   ]
  },
  {
   "cell_type": "code",
   "execution_count": null,
   "metadata": {},
   "outputs": [],
   "source": [
    "adata.var[:5]"
   ]
  },
  {
   "cell_type": "code",
   "execution_count": null,
   "metadata": {},
   "outputs": [],
   "source": [
    "print('Initial number of genes:', adata.n_vars)"
   ]
  },
  {
   "cell_type": "code",
   "execution_count": null,
   "metadata": {},
   "outputs": [],
   "source": [
    "print('Gene names: ', adata.var_names[:10].tolist())"
   ]
  },
  {
   "cell_type": "code",
   "execution_count": null,
   "metadata": {},
   "outputs": [],
   "source": [
    "print('Available metadata for each gene: ', adata.var.columns)"
   ]
  },
  {
   "cell_type": "markdown",
   "metadata": {},
   "source": [
    "## 2.2 Top-expressed genes\n",
    "The plot shows those genes that yield the highest fraction of counts in each single cells, across all cells."
   ]
  },
  {
   "cell_type": "code",
   "execution_count": null,
   "metadata": {},
   "outputs": [],
   "source": [
    "sc.pl.highest_expr_genes(adata, n_top=10)"
   ]
  },
  {
   "cell_type": "markdown",
   "metadata": {
    "extensions": {
     "jupyter_dashboards": {
      "version": 1,
      "views": {
       "grid_default": {
        "col": 0,
        "height": 6,
        "hidden": false,
        "row": 74,
        "width": 12
       },
       "report_default": {}
      }
     }
    }
   },
   "source": [
    "## 2.3 Calculate QCs"
   ]
  },
  {
   "cell_type": "code",
   "execution_count": null,
   "metadata": {},
   "outputs": [],
   "source": [
    "#Find mito and ribo genes\n",
    "mito_genes = adata.var_names.str.startswith('MT-')   \n",
    "ribo_genes = adata.var_names.str.contains('^RPS|^RPL')\n",
    "\n",
    "#qc_vars wants a column of adata.var containing T/F or 1/0 indicating the genes to be selected for sub-statistics\n",
    "adata.var['mito'] = adata.var_names.str.startswith('MT-')    \n",
    "adata.var['ribo']= adata.var_names.str.contains('^RPS|^RPL')\n",
    "\n",
    "#Compute metrics (inplace=True to append to adata)\n",
    "sc.pp.calculate_qc_metrics(adata, log1p=True, qc_vars=['mito','ribo'], inplace=True, percent_top=None)"
   ]
  },
  {
   "cell_type": "code",
   "execution_count": null,
   "metadata": {},
   "outputs": [],
   "source": [
    "adata.obs[\"gene_UMI_ratio\"] = adata.obs[\"n_genes_by_counts\"] / adata.obs[\"total_counts\"]\n",
    "adata.obs[\"log1p_gene_UMI_ratio\"] = np.log1p(adata.obs[\"gene_UMI_ratio\"])"
   ]
  },
  {
   "cell_type": "code",
   "execution_count": null,
   "metadata": {},
   "outputs": [],
   "source": [
    "adata"
   ]
  },
  {
   "cell_type": "markdown",
   "metadata": {},
   "source": [
    "----"
   ]
  },
  {
   "cell_type": "markdown",
   "metadata": {
    "extensions": {
     "jupyter_dashboards": {
      "version": 1,
      "views": {
       "grid_default": {
        "col": 0,
        "height": 8,
        "hidden": false,
        "row": 123,
        "width": 12
       },
       "report_default": {}
      }
     }
    },
    "tags": [],
    "toc-hr-collapsed": true
   },
   "source": [
    "# 3. Discard low quality barcodes and lowly expressed genes\n",
    "\n",
    "__Evaluate metrics related to quality as preliminary step for filtering.__ \n",
    "\n",
    "* __Mitochondrial gene counts:__ high proportions are indicative of poor-quality cells, related to loss of cytoplasmic RNA from perforated cells: mitochondrial transcripts are protected by mitochondrial membrane and therefore less likely to escape through tears in the cell membrane. \n",
    "* __Ribosomal Protein gene counts:__ high proportion are indicative of a shallow sequencing, because very highly expressed genes occupy most of the reads\n",
    "* __n_genes_by_counts:__ the number of genes with at least 1 count in a cell\n",
    "* __Total_Counts:__ total number of counts for a barcode\n",
    "\n",
    "_For more information look at [scanpy.pp.calculate_qc_metrics documentation](https://scanpy.readthedocs.io/en/stable/generated/scanpy.pp.calculate_qc_metrics.html)_\n"
   ]
  },
  {
   "cell_type": "markdown",
   "metadata": {},
   "source": [
    "<div class=\"alert alert-block alert-info\"><b> NOTE: </b> Thresholds are defined in the section 1.3 'Files and parameters'; they are first showed on diagnostic plots and then applied in the filtering step. \n",
    "    You can inspect and change them iteratively until you are satisfied by the results. \n",
    "</div>"
   ]
  },
  {
   "cell_type": "markdown",
   "metadata": {
    "extensions": {
     "jupyter_dashboards": {
      "version": 1,
      "views": {
       "grid_default": {
        "col": 8,
        "height": 4,
        "hidden": false,
        "row": 171,
        "width": 4
       },
       "report_default": {}
      }
     }
    }
   },
   "source": [
    "## 3.1 Visualize thresholds on distribution"
   ]
  },
  {
   "cell_type": "code",
   "execution_count": null,
   "metadata": {},
   "outputs": [],
   "source": [
    "sc.pl.violin(adata, keys=['total_counts', 'n_genes_by_counts', 'pct_counts_mito', 'pct_counts_ribo'], groupby='sample_id',\n",
    "             jitter=False, multi_panel=True, rotation=45)"
   ]
  },
  {
   "cell_type": "code",
   "execution_count": null,
   "metadata": {},
   "outputs": [],
   "source": [
    "fn.densityQCs(adataObj = adata, hue=None, \n",
    "              min_counts = MIN_COUNTS, max_counts = MAX_COUNTS, \n",
    "              min_genes = MIN_GENES, max_genes = MAX_GENES, \n",
    "              pct_counts_mito = PCT_MITO, pct_counts_ribo = PCT_RIBO)"
   ]
  },
  {
   "cell_type": "markdown",
   "metadata": {},
   "source": [
    "## 3.2 Barplot of discarded barcodes"
   ]
  },
  {
   "cell_type": "code",
   "execution_count": null,
   "metadata": {},
   "outputs": [],
   "source": [
    "fn.filterCellBarplot(adataObj=adata,\n",
    "                     min_counts=MIN_COUNTS, max_counts=MAX_COUNTS,\n",
    "                     min_genes=MIN_GENES, max_genes=MAX_GENES,\n",
    "                     pct_counts_mito = PCT_MITO, pct_counts_ribo = PCT_RIBO)"
   ]
  },
  {
   "cell_type": "markdown",
   "metadata": {},
   "source": [
    "## 3.3 Filtering barcodes"
   ]
  },
  {
   "cell_type": "code",
   "execution_count": null,
   "metadata": {
    "extensions": {
     "jupyter_dashboards": {
      "version": 1,
      "views": {
       "grid_default": {
        "col": 0,
        "height": 6,
        "hidden": false,
        "row": 203,
        "width": 4
       },
       "report_default": {}
      }
     }
    }
   },
   "outputs": [],
   "source": [
    "print('\\nThe selected filtering parameters are:' \n",
    "      '\\n Minimum counts: ' , MIN_COUNTS, '\\n Maximum counts:' , MAX_COUNTS,\n",
    "      '\\n Minimum genes: ' , MIN_GENES, '\\n Maximum genes:' , MAX_GENES,\n",
    "      '\\n Mitocondia: ' , PCT_MITO, '%', '\\n Ribosomal: ', PCT_RIBO, '%')"
   ]
  },
  {
   "cell_type": "markdown",
   "metadata": {
    "extensions": {
     "jupyter_dashboards": {
      "version": 1,
      "views": {
       "grid_default": {
        "col": 0,
        "height": 6,
        "hidden": false,
        "row": 203,
        "width": 4
       },
       "report_default": {}
      }
     }
    }
   },
   "source": [
    "### 3.3.1 Detected Genes"
   ]
  },
  {
   "cell_type": "code",
   "execution_count": null,
   "metadata": {},
   "outputs": [],
   "source": [
    "sc.pp.filter_cells(adata, min_genes=MIN_GENES)\n",
    "sc.pp.filter_cells(adata, max_genes=MAX_GENES)\n",
    "\n",
    "print('After filtering detected genes: number of cells:', adata.n_obs)"
   ]
  },
  {
   "cell_type": "markdown",
   "metadata": {},
   "source": [
    "### 3.3.2 UMI Counts"
   ]
  },
  {
   "cell_type": "code",
   "execution_count": null,
   "metadata": {},
   "outputs": [],
   "source": [
    "sc.pp.filter_cells(adata, min_counts = MIN_COUNTS)\n",
    "sc.pp.filter_cells(adata, max_counts = MAX_COUNTS)\n",
    "\n",
    "print('After filtering on min UMI counts:number of cells:', adata.n_obs)"
   ]
  },
  {
   "cell_type": "markdown",
   "metadata": {},
   "source": [
    "### 3.3.3 Mitochondrial RNA"
   ]
  },
  {
   "cell_type": "code",
   "execution_count": null,
   "metadata": {},
   "outputs": [],
   "source": [
    "adata = adata[adata.obs['pct_counts_mito'] < PCT_MITO, :]\n",
    "\n",
    "print('After filtering on mitochondrial RNA: number of cells:', adata.n_obs)"
   ]
  },
  {
   "cell_type": "markdown",
   "metadata": {},
   "source": [
    "### 3.3.4 Ribosomal RNA"
   ]
  },
  {
   "cell_type": "code",
   "execution_count": null,
   "metadata": {},
   "outputs": [],
   "source": [
    "adata = adata[adata.obs['pct_counts_ribo'] < PCT_RIBO, :]\n",
    "\n",
    "print('After filtering on ribosomal protein RNA: number of cells:', adata.n_obs)"
   ]
  },
  {
   "cell_type": "markdown",
   "metadata": {
    "extensions": {
     "jupyter_dashboards": {
      "version": 1,
      "views": {
       "grid_default": {
        "col": 4,
        "height": 4,
        "hidden": false,
        "row": 203,
        "width": 4
       },
       "report_default": {}
      }
     }
    },
    "tags": []
   },
   "source": [
    "## 3.4 Filtering genes\n"
   ]
  },
  {
   "cell_type": "code",
   "execution_count": null,
   "metadata": {},
   "outputs": [],
   "source": [
    "MIN_CELLS = np.rint((adata.n_obs*PCT_CELLS)/100) \n",
    "\n",
    "print('\\nGene expressed in less than ', PCT_CELLS, '% cells, corresponding to a number of ', \n",
    "     MIN_CELLS, ', are filtered out.')"
   ]
  },
  {
   "cell_type": "code",
   "execution_count": null,
   "metadata": {
    "extensions": {
     "jupyter_dashboards": {
      "version": 1,
      "views": {
       "grid_default": {
        "col": 8,
        "height": 4,
        "hidden": false,
        "row": 203,
        "width": 4
       },
       "report_default": {}
      }
     }
    }
   },
   "outputs": [],
   "source": [
    "print('Before gene filtering: number of genes:', adata.n_vars)"
   ]
  },
  {
   "cell_type": "code",
   "execution_count": null,
   "metadata": {
    "extensions": {
     "jupyter_dashboards": {
      "version": 1,
      "views": {
       "grid_default": {
        "col": 4,
        "height": 4,
        "hidden": false,
        "row": 207,
        "width": 4
       },
       "report_default": {}
      }
     }
    }
   },
   "outputs": [],
   "source": [
    "sc.pp.filter_genes(adata, min_cells=MIN_CELLS)"
   ]
  },
  {
   "cell_type": "code",
   "execution_count": null,
   "metadata": {
    "extensions": {
     "jupyter_dashboards": {
      "version": 1,
      "views": {
       "grid_default": {
        "col": 8,
        "height": 4,
        "hidden": false,
        "row": 207,
        "width": 4
       },
       "report_default": {}
      }
     }
    },
    "scrolled": true
   },
   "outputs": [],
   "source": [
    "print('After gene filtering: number of genes:', adata.n_vars)"
   ]
  },
  {
   "cell_type": "markdown",
   "metadata": {},
   "source": [
    "## 3.5 Numbers after filtering"
   ]
  },
  {
   "cell_type": "code",
   "execution_count": null,
   "metadata": {},
   "outputs": [],
   "source": [
    "print('After applied filtering: number of cells:', adata.n_obs)\n",
    "print('After applied filtering: number of genes:', adata.n_vars)"
   ]
  },
  {
   "cell_type": "code",
   "execution_count": null,
   "metadata": {},
   "outputs": [],
   "source": [
    "sc.settings.set_figure_params(fontsize=8, figsize=[8, 4])\n",
    "\n",
    "category_colors = plt.colormaps['RdYlGn'](\n",
    "        np.linspace(0.15, 0.85, len(adata.obs['sample_id'].value_counts())))\n",
    "\n",
    "adata.obs['sample_id'].value_counts().plot.bar(color=category_colors)"
   ]
  },
  {
   "cell_type": "markdown",
   "metadata": {},
   "source": [
    "----"
   ]
  },
  {
   "cell_type": "markdown",
   "metadata": {},
   "source": [
    "# 4. Normalize and Log Transform \n",
    "\n",
    "* Store raw counts in 'counts' layer\n",
    "* Normalize and log-transform\n",
    "* Store in 'lognormcounts' layer"
   ]
  },
  {
   "cell_type": "markdown",
   "metadata": {},
   "source": [
    "## 4.1 Store raw counts in 'counts' layer"
   ]
  },
  {
   "cell_type": "code",
   "execution_count": null,
   "metadata": {},
   "outputs": [],
   "source": [
    "adata.layers['counts'] = adata.X.copy()"
   ]
  },
  {
   "cell_type": "code",
   "execution_count": null,
   "metadata": {},
   "outputs": [],
   "source": [
    "print(adata.X[:, adata.var_names == 'ACTB'][:6])"
   ]
  },
  {
   "cell_type": "markdown",
   "metadata": {},
   "source": [
    "## 4.2 Basic Scanpy Normalization"
   ]
  },
  {
   "cell_type": "markdown",
   "metadata": {},
   "source": [
    "Some useful parameters to keep in mind from the scanpy documentation for [sc.pp.normalize_total](https://scanpy.readthedocs.io/en/stable/generated/scanpy.pp.normalize_total.html)\n",
    ">- `target_sum` : If None, after normalization, each observation (cell) has a total count equal to the **median of total counts for observations (cells) before normalization**.\n",
    ">- `exclude_highly_expressed` : Exclude (very) highly expressed genes for the computation of the normalization factor (size factor) for each cell. **A gene is considered highly expressed, if it has more than max_fraction of the total counts in at least one cell**. The not-excluded genes will sum up to target_sum.\n",
    ">- `max_fraction` : float (**default: 0.05**) If exclude_highly_expressed=True, consider cells as highly expressed that have more counts than max_fraction of the original total counts in at least one cell."
   ]
  },
  {
   "cell_type": "code",
   "execution_count": null,
   "metadata": {},
   "outputs": [],
   "source": [
    "sc.pp.normalize_total(adata, target_sum=1e4, exclude_highly_expressed=True)\n",
    "sc.pp.log1p(adata)"
   ]
  },
  {
   "cell_type": "markdown",
   "metadata": {},
   "source": [
    "## 4.3 Store normalized counts"
   ]
  },
  {
   "cell_type": "code",
   "execution_count": null,
   "metadata": {},
   "outputs": [],
   "source": [
    "adata.layers['lognormcounts']=adata.X.copy()"
   ]
  },
  {
   "cell_type": "code",
   "execution_count": null,
   "metadata": {},
   "outputs": [],
   "source": [
    "print(adata.layers['lognormcounts'][:, adata.var_names == 'ACTB'][:6])"
   ]
  },
  {
   "cell_type": "markdown",
   "metadata": {},
   "source": [
    "## 4.4 Alternative workflow: normalization by Scran"
   ]
  },
  {
   "cell_type": "markdown",
   "metadata": {},
   "source": [
    "<div class=\"alert alert-block alert-warning\"><b>FOOD for THOUGHTS: normalize with Scran</b>\n",
    "\n",
    "    \n",
    "<nav> <b> References: </b>\n",
    "<a href=\"https://genomebiology.biomedcentral.com/articles/10.1186/s13059-016-0947-7\"> Scran Paper </a> |\n",
    "<a href=\"https://bioconductor.org/packages/release/bioc/vignettes/scran/inst/doc/scran.html\">Scran R Vignette </a> |\n",
    "<a href=\"https://github.com/theislab/single-cell-tutorial/blob/master/latest_notebook/Case-study_Mouse-intestinal-epithelium_1906.ipynb\">Theis Scran Tutorial in scanpy </a> |\n",
    " </nav>\n",
    "    \n",
    "\n",
    "Normalizing cell-specific biases\n",
    "\n",
    "Cell-specific biases are normalized using the computeSumFactors() method, which implements the deconvolution strategy for scaling normalization (A. T. Lun, Bach, and Marioni 2016). This computes size factors that are used to scale the counts in each cell. The assumption is that most genes are not differentially expressed (DE) between cells , such that any differences in expression across the majority of genes represents some technical bias that should be removed.\n",
    "\n"
   ]
  },
  {
   "cell_type": "markdown",
   "metadata": {},
   "source": [
    "# 5. Feature selection: Highly Variable Genes"
   ]
  },
  {
   "cell_type": "markdown",
   "metadata": {},
   "source": [
    "## 5.1 Scanpy workflow\n",
    "\n",
    "__NB: batch argument allows to minimize contribution of batch-related genes to HVG selection__\n",
    "\n",
    "We can perform batch-aware highly variable gene selection by setting the batch_key argument. HVGs will be calculated for each batch separately and combine the results by selecting those genes that are highly variable in the highest number of batches."
   ]
  },
  {
   "cell_type": "code",
   "execution_count": null,
   "metadata": {},
   "outputs": [],
   "source": [
    "# specified values are the default\n",
    "sc.pp.highly_variable_genes(adata, min_mean=0.0125, max_mean=3, min_disp=0.5, batch_key=BATCH_KEY)\n",
    "print('Number of Higly Variable Genes', len(adata.var_names[adata.var['highly_variable'] == True]))"
   ]
  },
  {
   "cell_type": "markdown",
   "metadata": {},
   "source": [
    "## 5.2 Alternative workflow: Triku"
   ]
  },
  {
   "cell_type": "markdown",
   "metadata": {},
   "source": [
    "<div class=\"alert alert-block alert-warning\"><b>FOOD for THOUGHTS: feature selection by Triku</b>\n",
    "<nav> <b> Sources: </b>\n",
    "<a href=\"https://academic.oup.com/gigascience/article/doi/10.1093/gigascience/giac017/6547682\"> Triku Paper </a> |\n",
    "<a href=\"https://triku.readthedocs.io/en/latest/triku-work.html\"> Docs </a> |\n",
    " </nav>"
   ]
  },
  {
   "cell_type": "markdown",
   "metadata": {},
   "source": [
    "The premise of triku is that, for genes with similar expression levels, the expression pattern can be categorized in three states: \n",
    "\n",
    "- i: the gene is expressed throughout the cells with similar expression levels **(a)**: NO useful information about specific cell types associated to that gene\n",
    "- ii: the expression of the gene can be localized in a subset of cells, which can in turn be:\n",
    "    - Transcriptomically different cells **(b1)** (i.e. cells that are not neighbours in the dimensionally reduced map)\n",
    "    - Transcriptomically similar cells **(b2)** (neighbours): the gene is more probably biologically relevant for that population\n",
    "\n",
    "![](https://triku.readthedocs.io/en/latest/_images/cluster_distribution.svg)\n",
    "\n",
    "**Triku aims to select genes of case (b2)** while avoiding the selection of genes of case (a) and (b1). \n",
    "\n",
    "It does so by **looking at the expression in the nearest neighbours**"
   ]
  },
  {
   "cell_type": "markdown",
   "metadata": {},
   "source": [
    "![](https://triku.readthedocs.io/en/latest/_images/knn_scheme.svg)"
   ]
  },
  {
   "cell_type": "markdown",
   "metadata": {},
   "source": [
    " <b>FOOD for THOUGHTS: Batch effect could influence HVG selection. </b> You can consider to correct (e.g. with Harmony) the neighbors used to compute the HVGs. For this dataset we did not notice a big difference between the two procedures."
   ]
  },
  {
   "cell_type": "markdown",
   "metadata": {},
   "source": [
    "# 6. Dimensionality Reduction\n",
    "\n",
    "* scRNA-seq datasets are characterized by high dimensions (number of cells and genes).\n",
    "* to select the most informative features (genes), dimensionality reduction algorithms are applied.\n",
    "* these algorithms are a key pre-processing step to reduce data complexity and for visualization purposes. "
   ]
  },
  {
   "cell_type": "markdown",
   "metadata": {},
   "source": [
    "## 6.1 PCA\n",
    "\n",
    "* PCA apply an orthogonal transformation of the original dataset creating a new set of uncorrelated variables (principal components, PC) that are a linear combination of the original features. \n",
    "* In the context of scRNASeq, PCA is used to select the top PCs that are used for downstream analytical tasks.\n",
    "* The number of PCs to retain for downstream analyses is generally chosen on the basis of the amount of variance explained by each of them. Using more PCs will retain more biological signal at the cost of including more noise."
   ]
  },
  {
   "cell_type": "code",
   "execution_count": null,
   "metadata": {},
   "outputs": [],
   "source": [
    "sc.pp.pca(adata, n_comps=30, mask_var='highly_variable', svd_solver='arpack')"
   ]
  },
  {
   "cell_type": "code",
   "execution_count": null,
   "metadata": {},
   "outputs": [],
   "source": [
    "sc.settings.set_figure_params(dpi=80, fontsize=12)\n",
    "sc.pl.pca(adata, color=['sample_id', 'Auth_Age'], ncols=2, wspace=0.6)"
   ]
  },
  {
   "cell_type": "code",
   "execution_count": null,
   "metadata": {},
   "outputs": [],
   "source": [
    "sc.pl.pca(adata, color=['cell_label', 'cell_class'], ncols=2, wspace=0.6)"
   ]
  },
  {
   "cell_type": "code",
   "execution_count": null,
   "metadata": {},
   "outputs": [],
   "source": [
    "sc.settings.set_figure_params(dpi=80, fontsize=12)\n",
    "sc.pl.pca(adata, color=['sample_id', 'Auth_Age'], ncols=2, wspace=0.6)"
   ]
  },
  {
   "cell_type": "code",
   "execution_count": null,
   "metadata": {},
   "outputs": [],
   "source": [
    "sc.pl.pca_variance_ratio(adata)"
   ]
  },
  {
   "cell_type": "code",
   "execution_count": null,
   "metadata": {},
   "outputs": [],
   "source": [
    "sc.pl.pca_variance_ratio(adata, log=True)"
   ]
  },
  {
   "cell_type": "markdown",
   "metadata": {},
   "source": [
    "## 6.2 Neighbours \n",
    "\n",
    "[sc.pp.neighbors](https://scanpy.readthedocs.io/en/stable/generated/scanpy.pp.neighbors.html) computes a neighborhood graph of observations. The cells are embedded in a graph structure with edges drawn between cells with similar feature expression patterns. A k-nearest neigbour graph will connect each cell with the its k-nearest neigbours.\n",
    "\n",
    "__Key parameters:__ \n",
    "> * `n_pcs`: number of PC used for compute the kNN graph\n",
    "> * `n_neighbors`: number of neighbors. Larger neighbor values will result in more global structure being preserved at the loss of detailed local structure. \n",
    "> * `metrics`: distance metric used in the calculation"
   ]
  },
  {
   "cell_type": "code",
   "execution_count": null,
   "metadata": {
    "tags": []
   },
   "outputs": [],
   "source": [
    "N_NB = int(0.5 * len(adata) ** 0.5)\n",
    "if N_NB > 80:\n",
    "    N_NB = 80\n",
    "print(N_NB) "
   ]
  },
  {
   "cell_type": "code",
   "execution_count": null,
   "metadata": {},
   "outputs": [],
   "source": [
    "sc.pp.neighbors(adata, n_neighbors=N_NB, n_pcs=N_PCs, key_added=\"pca\")"
   ]
  },
  {
   "cell_type": "markdown",
   "metadata": {},
   "source": [
    "## 6.3 UMAP\n",
    "\n",
    "UMAP is a graph based, non-linear dimensionality technique. It constructs a high dimensional graph representation of the dataset and optimizes the low-dimensional graph representation to be structurally as similar as possible to the original graph.\n",
    "\n",
    "More information: \n",
    "* [UMAP ReadTheDocs](https://umap-learn.readthedocs.io/en/latest/how_umap_works.html)\n",
    "* [Understanding UMAP](https://pair-code.github.io/understanding-umap/)\n",
    "* [Dimensionality reduction for visualizing single-cell data using UMAP](https://www.nature.com/articles/nbt.4314)"
   ]
  },
  {
   "cell_type": "code",
   "execution_count": null,
   "metadata": {},
   "outputs": [],
   "source": [
    "sc.tl.umap(adata, random_state=1, neighbors_key=\"pca\")\n",
    "# store coordinates in a named slot so to avoid confusion with batch-corrected\n",
    "adata.obsm[\"X_umap_nocorr\"] = adata.obsm[\"X_umap\"].copy()\n",
    "del adata.obsm[\"X_umap\"]"
   ]
  },
  {
   "cell_type": "code",
   "execution_count": null,
   "metadata": {
    "scrolled": true
   },
   "outputs": [],
   "source": [
    "sc.pl.embedding(adata, basis=\"X_umap_nocorr\", \n",
    "                color=['n_genes_by_counts',\"total_counts\", 'pct_counts_mito', 'pct_counts_ribo'])"
   ]
  },
  {
   "cell_type": "code",
   "execution_count": null,
   "metadata": {},
   "outputs": [],
   "source": [
    "sc.pl.embedding(adata,  basis=\"X_umap_nocorr\", color=['sample_id', 'Auth_Batch', 'Auth_Assay'], wspace=0.5)"
   ]
  },
  {
   "cell_type": "code",
   "execution_count": null,
   "metadata": {},
   "outputs": [],
   "source": [
    "if 'cell_label' in adata.obs.columns:\n",
    "    sc.pl.embedding(adata, basis=\"X_umap_nocorr\", color=['cell_label', 'cell_class'],  wspace=0.6)"
   ]
  },
  {
   "cell_type": "markdown",
   "metadata": {},
   "source": [
    "# 7. Batch correction by Harmony"
   ]
  },
  {
   "cell_type": "markdown",
   "metadata": {},
   "source": [
    "<div class=\"alert alert-block alert-info\"> \n",
    "\n",
    "From the UMAP it is noticeable the presence of a potential batch effect. We therefore apply a batch correction using Harmony algorithm.  \n",
    "    \n",
    "<b>NOTE: we are CORRECTING FOR the created variable 'batch_key', that collapse information contained in original variables Batch and Assay (see detailes in html notebook on data assembly)</b>.\n",
    "\n",
    "Alternative strategies could be attempted varying the correction. \n",
    "    \n",
    "</div>"
   ]
  },
  {
   "cell_type": "markdown",
   "metadata": {},
   "source": [
    "Harmony uses an iterative clustering approach to align cells from different batches. For each iteration: \n",
    "\n",
    "* soft k-means clustering to group cells from multiple datasets \n",
    "* computation for each cluster of a global centroid and a dataset-specific centroid \n",
    "* from the centroids, calculation of a correction factor \n",
    "* the correction factor is used to correct each cell with a cell-specific factor \n",
    "\n",
    "__References__: [Harmony Quick Start](https://portals.broadinstitute.org/harmony/articles/quickstart.html)  "
   ]
  },
  {
   "cell_type": "markdown",
   "metadata": {},
   "source": [
    "<img src=\"https://portals.broadinstitute.org/harmony/articles/main.jpg\" width=\"750\">"
   ]
  },
  {
   "cell_type": "code",
   "execution_count": null,
   "metadata": {},
   "outputs": [],
   "source": [
    "sc.external.pp.harmony_integrate(adata, BATCH_KEY)"
   ]
  },
  {
   "cell_type": "code",
   "execution_count": null,
   "metadata": {},
   "outputs": [],
   "source": [
    "sc.pp.neighbors(adata, n_neighbors=N_NB, n_pcs=N_PCs, use_rep='X_pca_harmony', key_added='harmony')"
   ]
  },
  {
   "cell_type": "markdown",
   "metadata": {},
   "source": [
    "# 8. Batch-corrected dimensionality reduction"
   ]
  },
  {
   "cell_type": "markdown",
   "metadata": {},
   "source": [
    "## 8.1 UMAP"
   ]
  },
  {
   "cell_type": "code",
   "execution_count": null,
   "metadata": {},
   "outputs": [],
   "source": [
    "sc.tl.umap(adata, random_state=1, neighbors_key=\"harmony\")\n",
    "adata.obsm[\"X_umap_harmony\"] = adata.obsm[\"X_umap\"].copy()\n",
    "del adata.obsm[\"X_umap\"]"
   ]
  },
  {
   "cell_type": "code",
   "execution_count": null,
   "metadata": {},
   "outputs": [],
   "source": [
    "sc.pl.embedding(adata, basis=\"X_umap_harmony\", color=['sample_id'])"
   ]
  },
  {
   "cell_type": "code",
   "execution_count": null,
   "metadata": {},
   "outputs": [],
   "source": [
    "if 'cell_label' in adata.obs.columns:\n",
    "    sc.pl.embedding(adata, basis=\"X_umap_harmony\", color=['Auth_Batch', 'Auth_Assay'], wspace=0.5)"
   ]
  },
  {
   "cell_type": "code",
   "execution_count": null,
   "metadata": {},
   "outputs": [],
   "source": [
    "if 'cell_label' in adata.obs.columns:\n",
    "    sc.pl.embedding(adata, basis=\"X_umap_harmony\", color=['cell_label', 'cell_class'], wspace=0.6)"
   ]
  },
  {
   "cell_type": "markdown",
   "metadata": {},
   "source": [
    "## 8.2 Diffusion Map"
   ]
  },
  {
   "cell_type": "code",
   "execution_count": null,
   "metadata": {},
   "outputs": [],
   "source": [
    "sc.tl.diffmap(adata, random_state=1, neighbors_key=\"harmony\")\n",
    "adata.obsm[\"X_diffmap_harmony\"] = adata.obsm[\"X_diffmap\"].copy()\n",
    "del adata.obsm[\"X_diffmap\"]"
   ]
  },
  {
   "cell_type": "code",
   "execution_count": null,
   "metadata": {},
   "outputs": [],
   "source": [
    "sc.pl.embedding(adata, basis=\"X_diffmap_harmony\", components=['2,3'], color=['sample_id'])"
   ]
  },
  {
   "cell_type": "code",
   "execution_count": null,
   "metadata": {},
   "outputs": [],
   "source": [
    "if 'cell_label' in adata.obs.columns:\n",
    "    sc.pl.embedding(adata, basis=\"X_diffmap_harmony\", components=['2,3'], color=['cell_label', 'cell_class'], wspace=0.6)"
   ]
  },
  {
   "cell_type": "markdown",
   "metadata": {},
   "source": [
    "# 9. Clusters\n",
    "\n",
    "* We use graph-based clustering algorithms, that, starting from neighbourhood graph, aim at identifying “communities” of cells that are more connected to cells in the same community than they are to cells of different communities.\n",
    "* Each community represents a cluster that is then subjected to downstream characterization.\n",
    "* Here we apply Leiden algorithm ([reference paper](https://www.nature.com/articles/s41598-019-41695-z)). Advantages: computationally efficient; solves issue of detection of badly connected communities that somentimes happens with Louvain algorithm.\n",
    "* Different resolution values are tested; lower values result in a smaller number of bigger clusters, while higher values detect a bigger number of small clusters."
   ]
  },
  {
   "cell_type": "markdown",
   "metadata": {},
   "source": [
    "## 9.1 Cluster Identification"
   ]
  },
  {
   "cell_type": "code",
   "execution_count": null,
   "metadata": {},
   "outputs": [],
   "source": [
    "leiden_res = [0.2, 0.4, 0.6, 1.0]\n",
    "leiden_labels = []\n",
    "\n",
    "for x in leiden_res:\n",
    "    label = \"Leiden_\" + str(x).replace('.', '')\n",
    "    leiden_labels.append(label) \n",
    "    # updated with future scanpy deafult\n",
    "    sc.tl.leiden(adata, resolution=x, key_added=label, neighbors_key=\"harmony\", \n",
    "                 flavor='igraph', n_iterations=2, directed=False, random_state=0)"
   ]
  },
  {
   "cell_type": "markdown",
   "metadata": {},
   "source": [
    "## 9.2 Clusters on UMAP"
   ]
  },
  {
   "cell_type": "code",
   "execution_count": null,
   "metadata": {},
   "outputs": [],
   "source": [
    "sc.settings.set_figure_params(dpi=100)\n",
    "sc.pl.embedding(adata, basis=\"X_umap_harmony\", color=leiden_labels, \n",
    "               ncols=3, legend_loc='on data')"
   ]
  },
  {
   "cell_type": "markdown",
   "metadata": {},
   "source": [
    "## 9.3 Choose resolution"
   ]
  },
  {
   "cell_type": "code",
   "execution_count": null,
   "metadata": {},
   "outputs": [],
   "source": [
    "adata.obs['Leiden_Sel'] = adata.obs[chosen_leiden]"
   ]
  },
  {
   "cell_type": "code",
   "execution_count": null,
   "metadata": {},
   "outputs": [],
   "source": [
    "sc.pl.embedding(adata, basis=\"X_umap_harmony\", color='Leiden_Sel',\n",
    "                legend_loc='on data')"
   ]
  },
  {
   "cell_type": "code",
   "execution_count": null,
   "metadata": {},
   "outputs": [],
   "source": [
    "sc.pl.embedding(adata, basis=\"X_diffmap_harmony\", components=['2,3'], \n",
    "                color='Leiden_Sel', legend_loc='on data')"
   ]
  },
  {
   "cell_type": "markdown",
   "metadata": {
    "extensions": {
     "jupyter_dashboards": {
      "version": 1,
      "views": {
       "grid_default": {
        "col": 8,
        "height": 4,
        "hidden": false,
        "row": 293,
        "width": 4
       },
       "report_default": {}
      }
     }
    }
   },
   "source": [
    "# 10. Saving"
   ]
  },
  {
   "cell_type": "markdown",
   "metadata": {},
   "source": [
    "## 10.1 Save Adata"
   ]
  },
  {
   "cell_type": "code",
   "execution_count": null,
   "metadata": {
    "extensions": {
     "jupyter_dashboards": {
      "version": 1,
      "views": {
       "grid_default": {
        "col": 4,
        "height": 4,
        "hidden": false,
        "row": 297,
        "width": 4
       },
       "report_default": {}
      }
     }
    }
   },
   "outputs": [],
   "source": [
    "type(adata.X)"
   ]
  },
  {
   "cell_type": "code",
   "execution_count": null,
   "metadata": {},
   "outputs": [],
   "source": [
    "#adata.write(output_file)"
   ]
  },
  {
   "cell_type": "markdown",
   "metadata": {},
   "source": [
    "## 10.2 Finished computations: timestamp"
   ]
  },
  {
   "cell_type": "code",
   "execution_count": null,
   "metadata": {},
   "outputs": [],
   "source": [
    "print(datetime.now())"
   ]
  },
  {
   "cell_type": "markdown",
   "metadata": {},
   "source": [
    "## 10.3 Save python and html versions"
   ]
  },
  {
   "cell_type": "code",
   "execution_count": null,
   "metadata": {},
   "outputs": [],
   "source": [
    "nb_fname = '1_FiltNormBatch'"
   ]
  },
  {
   "cell_type": "code",
   "execution_count": null,
   "metadata": {},
   "outputs": [],
   "source": [
    "#%%bash -s \"$nb_fname\"\n",
    "#jupyter nbconvert \"$1\".ipynb --to=\"python\"\n",
    "#jupyter nbconvert \"$1\".ipynb --to=\"html\""
   ]
  },
  {
   "cell_type": "code",
   "execution_count": null,
   "metadata": {},
   "outputs": [],
   "source": []
  }
 ],
 "metadata": {
  "extensions": {
   "jupyter_dashboards": {
    "activeView": "grid_default",
    "version": 1,
    "views": {
     "grid_default": {
      "cellMargin": 10,
      "defaultCellHeight": 20,
      "maxColumns": 12,
      "name": "grid",
      "type": "grid"
     },
     "report_default": {
      "name": "report",
      "type": "report"
     }
    }
   }
  },
  "kernelspec": {
   "display_name": "Python [conda env:day3_env] *",
   "language": "python",
   "name": "conda-env-day3_env-py"
  },
  "language_info": {
   "codemirror_mode": {
    "name": "ipython",
    "version": 3
   },
   "file_extension": ".py",
   "mimetype": "text/x-python",
   "name": "python",
   "nbconvert_exporter": "python",
   "pygments_lexer": "ipython3",
   "version": "3.12.5"
  },
  "toc": {
   "base_numbering": 1,
   "nav_menu": {},
   "number_sections": false,
   "sideBar": true,
   "skip_h1_title": true,
   "title_cell": "Table of Contents",
   "title_sidebar": "Contents",
   "toc_cell": false,
   "toc_position": {},
   "toc_section_display": true,
   "toc_window_display": true
  }
 },
 "nbformat": 4,
 "nbformat_minor": 4
}
